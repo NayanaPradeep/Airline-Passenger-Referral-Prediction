{
  "nbformat": 4,
  "nbformat_minor": 0,
  "metadata": {
    "colab": {
      "name": "Airline Passenger Referral Prediction - Capstone Project.ipynb",
      "provenance": [],
      "collapsed_sections": [],
      "include_colab_link": true
    },
    "kernelspec": {
      "display_name": "Python 3",
      "language": "python",
      "name": "python3"
    },
    "language_info": {
      "codemirror_mode": {
        "name": "ipython",
        "version": 3
      },
      "file_extension": ".py",
      "mimetype": "text/x-python",
      "name": "python",
      "nbconvert_exporter": "python",
      "pygments_lexer": "ipython3",
      "version": "3.6.6"
    }
  },
  "cells": [
    {
      "cell_type": "markdown",
      "metadata": {
        "id": "view-in-github",
        "colab_type": "text"
      },
      "source": [
        "<a href=\"https://colab.research.google.com/github/NayanaPradeep/Airline-Passenger-Referral-Prediction/blob/main/Airline_Passenger_Referral_Prediction_Capstone_Project.ipynb\" target=\"_parent\"><img src=\"https://colab.research.google.com/assets/colab-badge.svg\" alt=\"Open In Colab\"/></a>"
      ]
    },
    {
      "cell_type": "markdown",
      "metadata": {
        "id": "Y4wzpyqABzi7"
      },
      "source": [
        "# **PROBLEM**"
      ]
    },
    {
      "cell_type": "markdown",
      "metadata": {
        "id": "4qmJThdkCinZ"
      },
      "source": [
        "Data includes airline reviews from 2006 to 2019 for popular airlines around the world with\n",
        "multiple choice and free text questions. Data is scraped in Spring 2019. The main objective\n",
        "is to predict whether passengers will refer the airline to their friends."
      ]
    },
    {
      "cell_type": "markdown",
      "metadata": {
        "id": "hkLz526rCu-s"
      },
      "source": [
        "Feature descriptions briefly as follows:\n",
        "\n",
        "*   airline: Name of the airline\n",
        "*   overall: Overall point is given to the trip between 1 to 10.\n",
        "*   author: Author of the trip\n",
        "*   reviewdate: Date of the Review customer review: Review of the customers in  free text format \n",
        "*   aircraft: Type of the aircraft\n",
        "*   travellertype: Type of traveler (e.g. business, leisure)\n",
        "*   cabin: Cabin at the flight date flown: Flight date\n",
        "*   seatcomfort: Rated between 1-5\n",
        "*   cabin service: Rated between 1-5\n",
        "*   foodbev: Rated between 1-5 \n",
        "*   entertainment: Rated between 1-5\n",
        "*   groundservice: Rated between 1-5\n",
        "*   valueformoney: Rated between 1-5\n",
        "*   recommended: Binary, target variable\n"
      ]
    },
    {
      "cell_type": "markdown",
      "metadata": {
        "id": "Jm3sAmulEhjj"
      },
      "source": [
        "# **SOLUTION**"
      ]
    },
    {
      "cell_type": "code",
      "metadata": {
        "id": "B9RBvvuQFk4b"
      },
      "source": [
        "#Import the necessary libraries\n",
        "\n",
        "import pandas as pd\n",
        "import warnings \n",
        "warnings.filterwarnings('ignore')\n",
        "\n",
        "import numpy as np\n",
        "import pandas as pd\n",
        "import matplotlib.pyplot as plt\n",
        "import seaborn as sns\n",
        "sns.set()\n",
        "%matplotlib inline\n",
        "\n",
        "from sklearn.linear_model import LogisticRegression\n",
        "from sklearn import metrics\n",
        "from sklearn.preprocessing import scale\n",
        "from sklearn.model_selection import train_test_split\n",
        "from sklearn.metrics import classification_report\n",
        "from sklearn.metrics import confusion_matrix\n",
        "from sklearn.metrics import accuracy_score\n",
        "\n",
        "from scipy.stats import zscore\n",
        "from sklearn.feature_extraction.text import CountVectorizer\n",
        "from sklearn.naive_bayes import GaussianNB\n",
        "from sklearn.neighbors import KNeighborsClassifier\n",
        "from sklearn import model_selection"
      ],
      "execution_count": 1,
      "outputs": []
    },
    {
      "cell_type": "code",
      "metadata": {
        "colab": {
          "base_uri": "https://localhost:8080/"
        },
        "id": "-1GTBjKlJGIR",
        "outputId": "6e4dd404-f479-437d-838d-b0e8e7c0feef"
      },
      "source": [
        "#Mount the drive to load the dataset \n",
        "from google.colab import drive\n",
        "\n",
        "drive.mount('/content/drive')"
      ],
      "execution_count": 2,
      "outputs": [
        {
          "output_type": "stream",
          "name": "stdout",
          "text": [
            "Mounted at /content/drive\n"
          ]
        }
      ]
    },
    {
      "cell_type": "code",
      "metadata": {
        "id": "ZQ0XbpnTJdCv"
      },
      "source": [
        "#Read the file\n",
        "file_path = '/content/drive/MyDrive/Colab Notebooks/Airline Passenger Referral Prediction - Nayana Pradeep/data_airline_reviews.xlsx'\n",
        "airline_df=pd.read_excel(file_path)"
      ],
      "execution_count": 3,
      "outputs": []
    },
    {
      "cell_type": "code",
      "metadata": {
        "colab": {
          "base_uri": "https://localhost:8080/",
          "height": 549
        },
        "id": "4FRRUwX8JSIY",
        "outputId": "8c8687b3-b69e-4238-8093-53a2359d12f3"
      },
      "source": [
        "#Top 10 rows of the dataset\n",
        "airline_df.head(10)"
      ],
      "execution_count": 4,
      "outputs": [
        {
          "output_type": "execute_result",
          "data": {
            "text/html": [
              "<div>\n",
              "<style scoped>\n",
              "    .dataframe tbody tr th:only-of-type {\n",
              "        vertical-align: middle;\n",
              "    }\n",
              "\n",
              "    .dataframe tbody tr th {\n",
              "        vertical-align: top;\n",
              "    }\n",
              "\n",
              "    .dataframe thead th {\n",
              "        text-align: right;\n",
              "    }\n",
              "</style>\n",
              "<table border=\"1\" class=\"dataframe\">\n",
              "  <thead>\n",
              "    <tr style=\"text-align: right;\">\n",
              "      <th></th>\n",
              "      <th>airline</th>\n",
              "      <th>overall</th>\n",
              "      <th>author</th>\n",
              "      <th>review_date</th>\n",
              "      <th>customer_review</th>\n",
              "      <th>aircraft</th>\n",
              "      <th>traveller_type</th>\n",
              "      <th>cabin</th>\n",
              "      <th>route</th>\n",
              "      <th>date_flown</th>\n",
              "      <th>seat_comfort</th>\n",
              "      <th>cabin_service</th>\n",
              "      <th>food_bev</th>\n",
              "      <th>entertainment</th>\n",
              "      <th>ground_service</th>\n",
              "      <th>value_for_money</th>\n",
              "      <th>recommended</th>\n",
              "    </tr>\n",
              "  </thead>\n",
              "  <tbody>\n",
              "    <tr>\n",
              "      <th>0</th>\n",
              "      <td>NaN</td>\n",
              "      <td>NaN</td>\n",
              "      <td>NaN</td>\n",
              "      <td>NaN</td>\n",
              "      <td>NaN</td>\n",
              "      <td>NaN</td>\n",
              "      <td>NaN</td>\n",
              "      <td>NaN</td>\n",
              "      <td>NaN</td>\n",
              "      <td>NaN</td>\n",
              "      <td>NaN</td>\n",
              "      <td>NaN</td>\n",
              "      <td>NaN</td>\n",
              "      <td>NaN</td>\n",
              "      <td>NaN</td>\n",
              "      <td>NaN</td>\n",
              "      <td>NaN</td>\n",
              "    </tr>\n",
              "    <tr>\n",
              "      <th>1</th>\n",
              "      <td>Turkish Airlines</td>\n",
              "      <td>7.0</td>\n",
              "      <td>Christopher Hackley</td>\n",
              "      <td>8th May 2019</td>\n",
              "      <td>âœ… Trip Verified | London to Izmir via Istanb...</td>\n",
              "      <td>NaN</td>\n",
              "      <td>Business</td>\n",
              "      <td>Economy Class</td>\n",
              "      <td>London to Izmir via Istanbul</td>\n",
              "      <td>2019-05-01 00:00:00</td>\n",
              "      <td>4.0</td>\n",
              "      <td>5.0</td>\n",
              "      <td>4.0</td>\n",
              "      <td>4.0</td>\n",
              "      <td>2.0</td>\n",
              "      <td>4.0</td>\n",
              "      <td>yes</td>\n",
              "    </tr>\n",
              "    <tr>\n",
              "      <th>2</th>\n",
              "      <td>NaN</td>\n",
              "      <td>NaN</td>\n",
              "      <td>NaN</td>\n",
              "      <td>NaN</td>\n",
              "      <td>NaN</td>\n",
              "      <td>NaN</td>\n",
              "      <td>NaN</td>\n",
              "      <td>NaN</td>\n",
              "      <td>NaN</td>\n",
              "      <td>NaN</td>\n",
              "      <td>NaN</td>\n",
              "      <td>NaN</td>\n",
              "      <td>NaN</td>\n",
              "      <td>NaN</td>\n",
              "      <td>NaN</td>\n",
              "      <td>NaN</td>\n",
              "      <td>NaN</td>\n",
              "    </tr>\n",
              "    <tr>\n",
              "      <th>3</th>\n",
              "      <td>Turkish Airlines</td>\n",
              "      <td>2.0</td>\n",
              "      <td>Adriana Pisoi</td>\n",
              "      <td>7th May 2019</td>\n",
              "      <td>âœ… Trip Verified | Istanbul to Bucharest. We ...</td>\n",
              "      <td>NaN</td>\n",
              "      <td>Family Leisure</td>\n",
              "      <td>Economy Class</td>\n",
              "      <td>Istanbul to Bucharest</td>\n",
              "      <td>2019-05-01 00:00:00</td>\n",
              "      <td>4.0</td>\n",
              "      <td>1.0</td>\n",
              "      <td>1.0</td>\n",
              "      <td>1.0</td>\n",
              "      <td>1.0</td>\n",
              "      <td>1.0</td>\n",
              "      <td>no</td>\n",
              "    </tr>\n",
              "    <tr>\n",
              "      <th>4</th>\n",
              "      <td>NaN</td>\n",
              "      <td>NaN</td>\n",
              "      <td>NaN</td>\n",
              "      <td>NaN</td>\n",
              "      <td>NaN</td>\n",
              "      <td>NaN</td>\n",
              "      <td>NaN</td>\n",
              "      <td>NaN</td>\n",
              "      <td>NaN</td>\n",
              "      <td>NaN</td>\n",
              "      <td>NaN</td>\n",
              "      <td>NaN</td>\n",
              "      <td>NaN</td>\n",
              "      <td>NaN</td>\n",
              "      <td>NaN</td>\n",
              "      <td>NaN</td>\n",
              "      <td>NaN</td>\n",
              "    </tr>\n",
              "    <tr>\n",
              "      <th>5</th>\n",
              "      <td>Turkish Airlines</td>\n",
              "      <td>3.0</td>\n",
              "      <td>M Galerko</td>\n",
              "      <td>7th May 2019</td>\n",
              "      <td>âœ… Trip Verified | Rome to Prishtina via Ista...</td>\n",
              "      <td>NaN</td>\n",
              "      <td>Business</td>\n",
              "      <td>Economy Class</td>\n",
              "      <td>Rome to Prishtina via Istanbul</td>\n",
              "      <td>2019-05-01 00:00:00</td>\n",
              "      <td>1.0</td>\n",
              "      <td>4.0</td>\n",
              "      <td>1.0</td>\n",
              "      <td>3.0</td>\n",
              "      <td>1.0</td>\n",
              "      <td>2.0</td>\n",
              "      <td>no</td>\n",
              "    </tr>\n",
              "    <tr>\n",
              "      <th>6</th>\n",
              "      <td>NaN</td>\n",
              "      <td>NaN</td>\n",
              "      <td>NaN</td>\n",
              "      <td>NaN</td>\n",
              "      <td>NaN</td>\n",
              "      <td>NaN</td>\n",
              "      <td>NaN</td>\n",
              "      <td>NaN</td>\n",
              "      <td>NaN</td>\n",
              "      <td>NaN</td>\n",
              "      <td>NaN</td>\n",
              "      <td>NaN</td>\n",
              "      <td>NaN</td>\n",
              "      <td>NaN</td>\n",
              "      <td>NaN</td>\n",
              "      <td>NaN</td>\n",
              "      <td>NaN</td>\n",
              "    </tr>\n",
              "    <tr>\n",
              "      <th>7</th>\n",
              "      <td>Turkish Airlines</td>\n",
              "      <td>10.0</td>\n",
              "      <td>Zeshan Shah</td>\n",
              "      <td>6th May 2019</td>\n",
              "      <td>âœ… Trip Verified | Flew on Turkish Airlines I...</td>\n",
              "      <td>A330</td>\n",
              "      <td>Solo Leisure</td>\n",
              "      <td>Economy Class</td>\n",
              "      <td>Washington Dulles to Karachi</td>\n",
              "      <td>April 2019</td>\n",
              "      <td>4.0</td>\n",
              "      <td>5.0</td>\n",
              "      <td>5.0</td>\n",
              "      <td>5.0</td>\n",
              "      <td>5.0</td>\n",
              "      <td>5.0</td>\n",
              "      <td>yes</td>\n",
              "    </tr>\n",
              "    <tr>\n",
              "      <th>8</th>\n",
              "      <td>NaN</td>\n",
              "      <td>NaN</td>\n",
              "      <td>NaN</td>\n",
              "      <td>NaN</td>\n",
              "      <td>NaN</td>\n",
              "      <td>NaN</td>\n",
              "      <td>NaN</td>\n",
              "      <td>NaN</td>\n",
              "      <td>NaN</td>\n",
              "      <td>NaN</td>\n",
              "      <td>NaN</td>\n",
              "      <td>NaN</td>\n",
              "      <td>NaN</td>\n",
              "      <td>NaN</td>\n",
              "      <td>NaN</td>\n",
              "      <td>NaN</td>\n",
              "      <td>NaN</td>\n",
              "    </tr>\n",
              "    <tr>\n",
              "      <th>9</th>\n",
              "      <td>Turkish Airlines</td>\n",
              "      <td>1.0</td>\n",
              "      <td>Pooja Jain</td>\n",
              "      <td>6th May 2019</td>\n",
              "      <td>âœ… Trip Verified | Mumbai to Dublin via Istan...</td>\n",
              "      <td>NaN</td>\n",
              "      <td>Solo Leisure</td>\n",
              "      <td>Economy Class</td>\n",
              "      <td>Mumbai to Dublin via Istanbul</td>\n",
              "      <td>2019-05-01 00:00:00</td>\n",
              "      <td>1.0</td>\n",
              "      <td>1.0</td>\n",
              "      <td>1.0</td>\n",
              "      <td>1.0</td>\n",
              "      <td>1.0</td>\n",
              "      <td>1.0</td>\n",
              "      <td>no</td>\n",
              "    </tr>\n",
              "  </tbody>\n",
              "</table>\n",
              "</div>"
            ],
            "text/plain": [
              "            airline  overall  ... value_for_money recommended\n",
              "0               NaN      NaN  ...             NaN         NaN\n",
              "1  Turkish Airlines      7.0  ...             4.0         yes\n",
              "2               NaN      NaN  ...             NaN         NaN\n",
              "3  Turkish Airlines      2.0  ...             1.0          no\n",
              "4               NaN      NaN  ...             NaN         NaN\n",
              "5  Turkish Airlines      3.0  ...             2.0          no\n",
              "6               NaN      NaN  ...             NaN         NaN\n",
              "7  Turkish Airlines     10.0  ...             5.0         yes\n",
              "8               NaN      NaN  ...             NaN         NaN\n",
              "9  Turkish Airlines      1.0  ...             1.0          no\n",
              "\n",
              "[10 rows x 17 columns]"
            ]
          },
          "metadata": {},
          "execution_count": 4
        }
      ]
    },
    {
      "cell_type": "code",
      "metadata": {
        "colab": {
          "base_uri": "https://localhost:8080/",
          "height": 343
        },
        "id": "1GdHiA-8KNQd",
        "outputId": "6b5dda39-fa59-4cb3-e5ef-80277db80d02"
      },
      "source": [
        "#Last 5 rows of the dataset\n",
        "airline_df.tail()"
      ],
      "execution_count": 5,
      "outputs": [
        {
          "output_type": "execute_result",
          "data": {
            "text/html": [
              "<div>\n",
              "<style scoped>\n",
              "    .dataframe tbody tr th:only-of-type {\n",
              "        vertical-align: middle;\n",
              "    }\n",
              "\n",
              "    .dataframe tbody tr th {\n",
              "        vertical-align: top;\n",
              "    }\n",
              "\n",
              "    .dataframe thead th {\n",
              "        text-align: right;\n",
              "    }\n",
              "</style>\n",
              "<table border=\"1\" class=\"dataframe\">\n",
              "  <thead>\n",
              "    <tr style=\"text-align: right;\">\n",
              "      <th></th>\n",
              "      <th>airline</th>\n",
              "      <th>overall</th>\n",
              "      <th>author</th>\n",
              "      <th>review_date</th>\n",
              "      <th>customer_review</th>\n",
              "      <th>aircraft</th>\n",
              "      <th>traveller_type</th>\n",
              "      <th>cabin</th>\n",
              "      <th>route</th>\n",
              "      <th>date_flown</th>\n",
              "      <th>seat_comfort</th>\n",
              "      <th>cabin_service</th>\n",
              "      <th>food_bev</th>\n",
              "      <th>entertainment</th>\n",
              "      <th>ground_service</th>\n",
              "      <th>value_for_money</th>\n",
              "      <th>recommended</th>\n",
              "    </tr>\n",
              "  </thead>\n",
              "  <tbody>\n",
              "    <tr>\n",
              "      <th>131890</th>\n",
              "      <td>Ukraine International</td>\n",
              "      <td>NaN</td>\n",
              "      <td>Andriy Yesypenko</td>\n",
              "      <td>19th May 2006</td>\n",
              "      <td>Kiev - London (Gatwick) in business class (in ...</td>\n",
              "      <td>NaN</td>\n",
              "      <td>NaN</td>\n",
              "      <td>NaN</td>\n",
              "      <td>NaN</td>\n",
              "      <td>NaN</td>\n",
              "      <td>NaN</td>\n",
              "      <td>NaN</td>\n",
              "      <td>NaN</td>\n",
              "      <td>NaN</td>\n",
              "      <td>NaN</td>\n",
              "      <td>NaN</td>\n",
              "      <td>no</td>\n",
              "    </tr>\n",
              "    <tr>\n",
              "      <th>131891</th>\n",
              "      <td>NaN</td>\n",
              "      <td>NaN</td>\n",
              "      <td>NaN</td>\n",
              "      <td>NaN</td>\n",
              "      <td>NaN</td>\n",
              "      <td>NaN</td>\n",
              "      <td>NaN</td>\n",
              "      <td>NaN</td>\n",
              "      <td>NaN</td>\n",
              "      <td>NaN</td>\n",
              "      <td>NaN</td>\n",
              "      <td>NaN</td>\n",
              "      <td>NaN</td>\n",
              "      <td>NaN</td>\n",
              "      <td>NaN</td>\n",
              "      <td>NaN</td>\n",
              "      <td>NaN</td>\n",
              "    </tr>\n",
              "    <tr>\n",
              "      <th>131892</th>\n",
              "      <td>Ukraine International</td>\n",
              "      <td>NaN</td>\n",
              "      <td>Volodya Bilotkach</td>\n",
              "      <td>29th April 2006</td>\n",
              "      <td>Several flights - KBP to AMS (3 times one way)...</td>\n",
              "      <td>NaN</td>\n",
              "      <td>NaN</td>\n",
              "      <td>NaN</td>\n",
              "      <td>NaN</td>\n",
              "      <td>NaN</td>\n",
              "      <td>NaN</td>\n",
              "      <td>NaN</td>\n",
              "      <td>NaN</td>\n",
              "      <td>NaN</td>\n",
              "      <td>NaN</td>\n",
              "      <td>NaN</td>\n",
              "      <td>no</td>\n",
              "    </tr>\n",
              "    <tr>\n",
              "      <th>131893</th>\n",
              "      <td>NaN</td>\n",
              "      <td>NaN</td>\n",
              "      <td>NaN</td>\n",
              "      <td>NaN</td>\n",
              "      <td>NaN</td>\n",
              "      <td>NaN</td>\n",
              "      <td>NaN</td>\n",
              "      <td>NaN</td>\n",
              "      <td>NaN</td>\n",
              "      <td>NaN</td>\n",
              "      <td>NaN</td>\n",
              "      <td>NaN</td>\n",
              "      <td>NaN</td>\n",
              "      <td>NaN</td>\n",
              "      <td>NaN</td>\n",
              "      <td>NaN</td>\n",
              "      <td>NaN</td>\n",
              "    </tr>\n",
              "    <tr>\n",
              "      <th>131894</th>\n",
              "      <td>Ukraine International</td>\n",
              "      <td>NaN</td>\n",
              "      <td>Kasper Hettinga</td>\n",
              "      <td>10th February 2006</td>\n",
              "      <td>KBP-AMS with UIA. Although it was a relatively...</td>\n",
              "      <td>NaN</td>\n",
              "      <td>NaN</td>\n",
              "      <td>NaN</td>\n",
              "      <td>NaN</td>\n",
              "      <td>NaN</td>\n",
              "      <td>NaN</td>\n",
              "      <td>NaN</td>\n",
              "      <td>NaN</td>\n",
              "      <td>NaN</td>\n",
              "      <td>NaN</td>\n",
              "      <td>NaN</td>\n",
              "      <td>no</td>\n",
              "    </tr>\n",
              "  </tbody>\n",
              "</table>\n",
              "</div>"
            ],
            "text/plain": [
              "                      airline  overall  ... value_for_money recommended\n",
              "131890  Ukraine International      NaN  ...             NaN          no\n",
              "131891                    NaN      NaN  ...             NaN         NaN\n",
              "131892  Ukraine International      NaN  ...             NaN          no\n",
              "131893                    NaN      NaN  ...             NaN         NaN\n",
              "131894  Ukraine International      NaN  ...             NaN          no\n",
              "\n",
              "[5 rows x 17 columns]"
            ]
          },
          "metadata": {},
          "execution_count": 5
        }
      ]
    },
    {
      "cell_type": "code",
      "metadata": {
        "colab": {
          "base_uri": "https://localhost:8080/"
        },
        "id": "q8pzekV9KRyT",
        "outputId": "7031070e-0cbc-4624-e60a-bb8764dfa5ea"
      },
      "source": [
        "#Column names of the dataset\n",
        "airline_df.columns"
      ],
      "execution_count": 6,
      "outputs": [
        {
          "output_type": "execute_result",
          "data": {
            "text/plain": [
              "Index(['airline', 'overall', 'author', 'review_date', 'customer_review',\n",
              "       'aircraft', 'traveller_type', 'cabin', 'route', 'date_flown',\n",
              "       'seat_comfort', 'cabin_service', 'food_bev', 'entertainment',\n",
              "       'ground_service', 'value_for_money', 'recommended'],\n",
              "      dtype='object')"
            ]
          },
          "metadata": {},
          "execution_count": 6
        }
      ]
    },
    {
      "cell_type": "code",
      "metadata": {
        "colab": {
          "base_uri": "https://localhost:8080/"
        },
        "id": "ks4zz-vBKWL7",
        "outputId": "0147ed9f-d566-4595-c245-4a119b969e3e"
      },
      "source": [
        "#Number of rows and column\n",
        "airline_df.shape"
      ],
      "execution_count": 7,
      "outputs": [
        {
          "output_type": "execute_result",
          "data": {
            "text/plain": [
              "(131895, 17)"
            ]
          },
          "metadata": {},
          "execution_count": 7
        }
      ]
    },
    {
      "cell_type": "code",
      "metadata": {
        "colab": {
          "base_uri": "https://localhost:8080/"
        },
        "id": "cOeDT93_KfTT",
        "outputId": "791a389e-4c99-4c8d-e712-01d7eca379a3"
      },
      "source": [
        "#Checking the unique values of the  recommended column(target variable)\n",
        "airline_df.recommended.unique()"
      ],
      "execution_count": 8,
      "outputs": [
        {
          "output_type": "execute_result",
          "data": {
            "text/plain": [
              "array([nan, 'yes', 'no'], dtype=object)"
            ]
          },
          "metadata": {},
          "execution_count": 8
        }
      ]
    },
    {
      "cell_type": "code",
      "metadata": {
        "colab": {
          "base_uri": "https://localhost:8080/"
        },
        "id": "4Yib1zInKpQG",
        "outputId": "92df15e9-11b3-4817-e65a-6de41c389f3e"
      },
      "source": [
        "#Checking the types of travellers who submitted the review\n",
        "airline_df.traveller_type.unique()"
      ],
      "execution_count": 9,
      "outputs": [
        {
          "output_type": "execute_result",
          "data": {
            "text/plain": [
              "array([nan, 'Business', 'Family Leisure', 'Solo Leisure',\n",
              "       'Couple Leisure'], dtype=object)"
            ]
          },
          "metadata": {},
          "execution_count": 9
        }
      ]
    },
    {
      "cell_type": "markdown",
      "metadata": {
        "id": "oGMu-19KscOg"
      },
      "source": [
        "From the last 5 rows, we can conclude that the dataset contains null values. Lets check the number of null values present for each of the columns of this huge dataset. "
      ]
    },
    {
      "cell_type": "code",
      "metadata": {
        "colab": {
          "base_uri": "https://localhost:8080/"
        },
        "id": "3AzTUftUSQHq",
        "outputId": "498b32e8-616e-41f6-cba4-2f25bfd5fb12"
      },
      "source": [
        "#Checking the null value count for each column\n",
        "airline_df.isnull().sum()"
      ],
      "execution_count": 10,
      "outputs": [
        {
          "output_type": "execute_result",
          "data": {
            "text/plain": [
              "airline             65948\n",
              "overall             67878\n",
              "author              65948\n",
              "review_date         65948\n",
              "customer_review     65948\n",
              "aircraft           112177\n",
              "traveller_type      92140\n",
              "cabin               68592\n",
              "route               92169\n",
              "date_flown          92262\n",
              "seat_comfort        71214\n",
              "cabin_service       71180\n",
              "food_bev            79287\n",
              "entertainment       87702\n",
              "ground_service      92537\n",
              "value_for_money     67920\n",
              "recommended         67455\n",
              "dtype: int64"
            ]
          },
          "metadata": {},
          "execution_count": 10
        }
      ]
    },
    {
      "cell_type": "code",
      "metadata": {
        "id": "GQU1lrRKJ70v"
      },
      "source": [
        "def missing_values_per_check(df):\n",
        "    percent_missing = airline_df.isnull().sum() * 100 / len(airline_df)\n",
        "    missing_values_df = pd.DataFrame({'column_name': airline_df.columns,\n",
        "                                     'percent_missing': percent_missing})\n",
        "    return missing_values_df.sort_values('percent_missing',ascending=False)"
      ],
      "execution_count": 11,
      "outputs": []
    },
    {
      "cell_type": "code",
      "metadata": {
        "colab": {
          "base_uri": "https://localhost:8080/",
          "height": 576
        },
        "id": "0awrg8CzKJ5B",
        "outputId": "db583232-e303-41ce-9c8a-adbe6bec3f0e"
      },
      "source": [
        "missing_values_per_check(airline_df)"
      ],
      "execution_count": 12,
      "outputs": [
        {
          "output_type": "execute_result",
          "data": {
            "text/html": [
              "<div>\n",
              "<style scoped>\n",
              "    .dataframe tbody tr th:only-of-type {\n",
              "        vertical-align: middle;\n",
              "    }\n",
              "\n",
              "    .dataframe tbody tr th {\n",
              "        vertical-align: top;\n",
              "    }\n",
              "\n",
              "    .dataframe thead th {\n",
              "        text-align: right;\n",
              "    }\n",
              "</style>\n",
              "<table border=\"1\" class=\"dataframe\">\n",
              "  <thead>\n",
              "    <tr style=\"text-align: right;\">\n",
              "      <th></th>\n",
              "      <th>column_name</th>\n",
              "      <th>percent_missing</th>\n",
              "    </tr>\n",
              "  </thead>\n",
              "  <tbody>\n",
              "    <tr>\n",
              "      <th>aircraft</th>\n",
              "      <td>aircraft</td>\n",
              "      <td>85.050229</td>\n",
              "    </tr>\n",
              "    <tr>\n",
              "      <th>ground_service</th>\n",
              "      <td>ground_service</td>\n",
              "      <td>70.159597</td>\n",
              "    </tr>\n",
              "    <tr>\n",
              "      <th>date_flown</th>\n",
              "      <td>date_flown</td>\n",
              "      <td>69.951097</td>\n",
              "    </tr>\n",
              "    <tr>\n",
              "      <th>route</th>\n",
              "      <td>route</td>\n",
              "      <td>69.880587</td>\n",
              "    </tr>\n",
              "    <tr>\n",
              "      <th>traveller_type</th>\n",
              "      <td>traveller_type</td>\n",
              "      <td>69.858600</td>\n",
              "    </tr>\n",
              "    <tr>\n",
              "      <th>entertainment</th>\n",
              "      <td>entertainment</td>\n",
              "      <td>66.493802</td>\n",
              "    </tr>\n",
              "    <tr>\n",
              "      <th>food_bev</th>\n",
              "      <td>food_bev</td>\n",
              "      <td>60.113727</td>\n",
              "    </tr>\n",
              "    <tr>\n",
              "      <th>seat_comfort</th>\n",
              "      <td>seat_comfort</td>\n",
              "      <td>53.992949</td>\n",
              "    </tr>\n",
              "    <tr>\n",
              "      <th>cabin_service</th>\n",
              "      <td>cabin_service</td>\n",
              "      <td>53.967171</td>\n",
              "    </tr>\n",
              "    <tr>\n",
              "      <th>cabin</th>\n",
              "      <td>cabin</td>\n",
              "      <td>52.005004</td>\n",
              "    </tr>\n",
              "    <tr>\n",
              "      <th>value_for_money</th>\n",
              "      <td>value_for_money</td>\n",
              "      <td>51.495508</td>\n",
              "    </tr>\n",
              "    <tr>\n",
              "      <th>overall</th>\n",
              "      <td>overall</td>\n",
              "      <td>51.463664</td>\n",
              "    </tr>\n",
              "    <tr>\n",
              "      <th>recommended</th>\n",
              "      <td>recommended</td>\n",
              "      <td>51.142955</td>\n",
              "    </tr>\n",
              "    <tr>\n",
              "      <th>customer_review</th>\n",
              "      <td>customer_review</td>\n",
              "      <td>50.000379</td>\n",
              "    </tr>\n",
              "    <tr>\n",
              "      <th>review_date</th>\n",
              "      <td>review_date</td>\n",
              "      <td>50.000379</td>\n",
              "    </tr>\n",
              "    <tr>\n",
              "      <th>author</th>\n",
              "      <td>author</td>\n",
              "      <td>50.000379</td>\n",
              "    </tr>\n",
              "    <tr>\n",
              "      <th>airline</th>\n",
              "      <td>airline</td>\n",
              "      <td>50.000379</td>\n",
              "    </tr>\n",
              "  </tbody>\n",
              "</table>\n",
              "</div>"
            ],
            "text/plain": [
              "                     column_name  percent_missing\n",
              "aircraft                aircraft        85.050229\n",
              "ground_service    ground_service        70.159597\n",
              "date_flown            date_flown        69.951097\n",
              "route                      route        69.880587\n",
              "traveller_type    traveller_type        69.858600\n",
              "entertainment      entertainment        66.493802\n",
              "food_bev                food_bev        60.113727\n",
              "seat_comfort        seat_comfort        53.992949\n",
              "cabin_service      cabin_service        53.967171\n",
              "cabin                      cabin        52.005004\n",
              "value_for_money  value_for_money        51.495508\n",
              "overall                  overall        51.463664\n",
              "recommended          recommended        51.142955\n",
              "customer_review  customer_review        50.000379\n",
              "review_date          review_date        50.000379\n",
              "author                    author        50.000379\n",
              "airline                  airline        50.000379"
            ]
          },
          "metadata": {},
          "execution_count": 12
        }
      ]
    },
    {
      "cell_type": "markdown",
      "metadata": {
        "id": "Qx06RCdstGFY"
      },
      "source": [
        "From the above analysis, it is clear that our dataset contains lot of null values. Since 'recommended' is the target variable here, lets concentrate the null value count of 'recommended' first.\n",
        "\n",
        "Let's check the subset of the dataset which has null values for 'recommended'"
      ]
    },
    {
      "cell_type": "code",
      "metadata": {
        "id": "UolEld_n0mim"
      },
      "source": [
        "#Creating a copy before the data preparation and analysis\n",
        "airline_df_copy =airline_df.copy()"
      ],
      "execution_count": 13,
      "outputs": []
    },
    {
      "cell_type": "code",
      "metadata": {
        "id": "QM-uZ-qFWHNh"
      },
      "source": [
        "#new dataset with rows where recommended is null\n",
        "recommended_null = airline_df[airline_df['recommended'].isnull()]"
      ],
      "execution_count": 14,
      "outputs": []
    },
    {
      "cell_type": "code",
      "metadata": {
        "colab": {
          "base_uri": "https://localhost:8080/"
        },
        "id": "XF2jJ4JAV0dH",
        "outputId": "c7d5c428-db72-48b1-fedc-bb9b5276f751"
      },
      "source": [
        "#checking the null count for this particular subset\n",
        "recommended_null.isnull().sum()"
      ],
      "execution_count": 15,
      "outputs": [
        {
          "output_type": "execute_result",
          "data": {
            "text/plain": [
              "airline            65948\n",
              "overall            65968\n",
              "author             65948\n",
              "review_date        65948\n",
              "customer_review    65948\n",
              "aircraft           67454\n",
              "traveller_type     67454\n",
              "cabin              67454\n",
              "route              67454\n",
              "date_flown         67455\n",
              "seat_comfort       67455\n",
              "cabin_service      67455\n",
              "food_bev           67455\n",
              "entertainment      67455\n",
              "ground_service     67455\n",
              "value_for_money    67455\n",
              "recommended        67455\n",
              "dtype: int64"
            ]
          },
          "metadata": {},
          "execution_count": 15
        }
      ]
    },
    {
      "cell_type": "code",
      "metadata": {
        "colab": {
          "base_uri": "https://localhost:8080/",
          "height": 576
        },
        "id": "xPvg7m5yKtww",
        "outputId": "1d75db4f-8a1e-4330-bc6a-bf15394e9ad0"
      },
      "source": [
        "missing_values_per_check(recommended_null)"
      ],
      "execution_count": 16,
      "outputs": [
        {
          "output_type": "execute_result",
          "data": {
            "text/html": [
              "<div>\n",
              "<style scoped>\n",
              "    .dataframe tbody tr th:only-of-type {\n",
              "        vertical-align: middle;\n",
              "    }\n",
              "\n",
              "    .dataframe tbody tr th {\n",
              "        vertical-align: top;\n",
              "    }\n",
              "\n",
              "    .dataframe thead th {\n",
              "        text-align: right;\n",
              "    }\n",
              "</style>\n",
              "<table border=\"1\" class=\"dataframe\">\n",
              "  <thead>\n",
              "    <tr style=\"text-align: right;\">\n",
              "      <th></th>\n",
              "      <th>column_name</th>\n",
              "      <th>percent_missing</th>\n",
              "    </tr>\n",
              "  </thead>\n",
              "  <tbody>\n",
              "    <tr>\n",
              "      <th>aircraft</th>\n",
              "      <td>aircraft</td>\n",
              "      <td>85.050229</td>\n",
              "    </tr>\n",
              "    <tr>\n",
              "      <th>ground_service</th>\n",
              "      <td>ground_service</td>\n",
              "      <td>70.159597</td>\n",
              "    </tr>\n",
              "    <tr>\n",
              "      <th>date_flown</th>\n",
              "      <td>date_flown</td>\n",
              "      <td>69.951097</td>\n",
              "    </tr>\n",
              "    <tr>\n",
              "      <th>route</th>\n",
              "      <td>route</td>\n",
              "      <td>69.880587</td>\n",
              "    </tr>\n",
              "    <tr>\n",
              "      <th>traveller_type</th>\n",
              "      <td>traveller_type</td>\n",
              "      <td>69.858600</td>\n",
              "    </tr>\n",
              "    <tr>\n",
              "      <th>entertainment</th>\n",
              "      <td>entertainment</td>\n",
              "      <td>66.493802</td>\n",
              "    </tr>\n",
              "    <tr>\n",
              "      <th>food_bev</th>\n",
              "      <td>food_bev</td>\n",
              "      <td>60.113727</td>\n",
              "    </tr>\n",
              "    <tr>\n",
              "      <th>seat_comfort</th>\n",
              "      <td>seat_comfort</td>\n",
              "      <td>53.992949</td>\n",
              "    </tr>\n",
              "    <tr>\n",
              "      <th>cabin_service</th>\n",
              "      <td>cabin_service</td>\n",
              "      <td>53.967171</td>\n",
              "    </tr>\n",
              "    <tr>\n",
              "      <th>cabin</th>\n",
              "      <td>cabin</td>\n",
              "      <td>52.005004</td>\n",
              "    </tr>\n",
              "    <tr>\n",
              "      <th>value_for_money</th>\n",
              "      <td>value_for_money</td>\n",
              "      <td>51.495508</td>\n",
              "    </tr>\n",
              "    <tr>\n",
              "      <th>overall</th>\n",
              "      <td>overall</td>\n",
              "      <td>51.463664</td>\n",
              "    </tr>\n",
              "    <tr>\n",
              "      <th>recommended</th>\n",
              "      <td>recommended</td>\n",
              "      <td>51.142955</td>\n",
              "    </tr>\n",
              "    <tr>\n",
              "      <th>customer_review</th>\n",
              "      <td>customer_review</td>\n",
              "      <td>50.000379</td>\n",
              "    </tr>\n",
              "    <tr>\n",
              "      <th>review_date</th>\n",
              "      <td>review_date</td>\n",
              "      <td>50.000379</td>\n",
              "    </tr>\n",
              "    <tr>\n",
              "      <th>author</th>\n",
              "      <td>author</td>\n",
              "      <td>50.000379</td>\n",
              "    </tr>\n",
              "    <tr>\n",
              "      <th>airline</th>\n",
              "      <td>airline</td>\n",
              "      <td>50.000379</td>\n",
              "    </tr>\n",
              "  </tbody>\n",
              "</table>\n",
              "</div>"
            ],
            "text/plain": [
              "                     column_name  percent_missing\n",
              "aircraft                aircraft        85.050229\n",
              "ground_service    ground_service        70.159597\n",
              "date_flown            date_flown        69.951097\n",
              "route                      route        69.880587\n",
              "traveller_type    traveller_type        69.858600\n",
              "entertainment      entertainment        66.493802\n",
              "food_bev                food_bev        60.113727\n",
              "seat_comfort        seat_comfort        53.992949\n",
              "cabin_service      cabin_service        53.967171\n",
              "cabin                      cabin        52.005004\n",
              "value_for_money  value_for_money        51.495508\n",
              "overall                  overall        51.463664\n",
              "recommended          recommended        51.142955\n",
              "customer_review  customer_review        50.000379\n",
              "review_date          review_date        50.000379\n",
              "author                    author        50.000379\n",
              "airline                  airline        50.000379"
            ]
          },
          "metadata": {},
          "execution_count": 16
        }
      ]
    },
    {
      "cell_type": "markdown",
      "metadata": {
        "id": "W5j7gGVMt7LV"
      },
      "source": [
        "Now it's clear that the subset with null values for 'recommended' column comes with approximately same amount of null values for the other columns.\n",
        "\n",
        "This subset of dataset can corrupt the analysis and prediction because it is almost full of null values. So it is safer to remove these columns from the original dataset"
      ]
    },
    {
      "cell_type": "code",
      "metadata": {
        "colab": {
          "base_uri": "https://localhost:8080/"
        },
        "id": "QZ4IfhaQXjSp",
        "outputId": "f3bc3de9-de36-4a3e-f3c3-0d40a8e46f9a"
      },
      "source": [
        "#Number of rows and columns in this subset dataset\n",
        "recommended_null.shape"
      ],
      "execution_count": 17,
      "outputs": [
        {
          "output_type": "execute_result",
          "data": {
            "text/plain": [
              "(67455, 17)"
            ]
          },
          "metadata": {},
          "execution_count": 17
        }
      ]
    },
    {
      "cell_type": "code",
      "metadata": {
        "id": "WElM2sercxc9"
      },
      "source": [
        "#remove the rows where recommended value is null\n",
        "airline_df.drop(airline_df[airline_df['recommended'].isnull()].index, inplace = True)"
      ],
      "execution_count": 18,
      "outputs": []
    },
    {
      "cell_type": "code",
      "metadata": {
        "colab": {
          "base_uri": "https://localhost:8080/"
        },
        "id": "S2mgMs9iWw5Z",
        "outputId": "da9952a6-6bb8-47d5-fae6-5645f4ee37b8"
      },
      "source": [
        "#Number of rows and columns of the improved and new dataset\n",
        "airline_df.shape"
      ],
      "execution_count": 19,
      "outputs": [
        {
          "output_type": "execute_result",
          "data": {
            "text/plain": [
              "(64440, 17)"
            ]
          },
          "metadata": {},
          "execution_count": 19
        }
      ]
    },
    {
      "cell_type": "code",
      "metadata": {
        "colab": {
          "base_uri": "https://localhost:8080/",
          "height": 576
        },
        "id": "ZfCoVNMcK3rb",
        "outputId": "c934c82b-c4e9-4978-8931-2c4864e31021"
      },
      "source": [
        "missing_values_per_check(airline_df)"
      ],
      "execution_count": 20,
      "outputs": [
        {
          "output_type": "execute_result",
          "data": {
            "text/html": [
              "<div>\n",
              "<style scoped>\n",
              "    .dataframe tbody tr th:only-of-type {\n",
              "        vertical-align: middle;\n",
              "    }\n",
              "\n",
              "    .dataframe tbody tr th {\n",
              "        vertical-align: top;\n",
              "    }\n",
              "\n",
              "    .dataframe thead th {\n",
              "        text-align: right;\n",
              "    }\n",
              "</style>\n",
              "<table border=\"1\" class=\"dataframe\">\n",
              "  <thead>\n",
              "    <tr style=\"text-align: right;\">\n",
              "      <th></th>\n",
              "      <th>column_name</th>\n",
              "      <th>percent_missing</th>\n",
              "    </tr>\n",
              "  </thead>\n",
              "  <tbody>\n",
              "    <tr>\n",
              "      <th>aircraft</th>\n",
              "      <td>aircraft</td>\n",
              "      <td>69.402545</td>\n",
              "    </tr>\n",
              "    <tr>\n",
              "      <th>ground_service</th>\n",
              "      <td>ground_service</td>\n",
              "      <td>38.923029</td>\n",
              "    </tr>\n",
              "    <tr>\n",
              "      <th>date_flown</th>\n",
              "      <td>date_flown</td>\n",
              "      <td>38.496276</td>\n",
              "    </tr>\n",
              "    <tr>\n",
              "      <th>route</th>\n",
              "      <td>route</td>\n",
              "      <td>38.353507</td>\n",
              "    </tr>\n",
              "    <tr>\n",
              "      <th>traveller_type</th>\n",
              "      <td>traveller_type</td>\n",
              "      <td>38.308504</td>\n",
              "    </tr>\n",
              "    <tr>\n",
              "      <th>entertainment</th>\n",
              "      <td>entertainment</td>\n",
              "      <td>31.419926</td>\n",
              "    </tr>\n",
              "    <tr>\n",
              "      <th>food_bev</th>\n",
              "      <td>food_bev</td>\n",
              "      <td>18.361266</td>\n",
              "    </tr>\n",
              "    <tr>\n",
              "      <th>seat_comfort</th>\n",
              "      <td>seat_comfort</td>\n",
              "      <td>5.833333</td>\n",
              "    </tr>\n",
              "    <tr>\n",
              "      <th>cabin_service</th>\n",
              "      <td>cabin_service</td>\n",
              "      <td>5.780571</td>\n",
              "    </tr>\n",
              "    <tr>\n",
              "      <th>overall</th>\n",
              "      <td>overall</td>\n",
              "      <td>2.963998</td>\n",
              "    </tr>\n",
              "    <tr>\n",
              "      <th>cabin</th>\n",
              "      <td>cabin</td>\n",
              "      <td>1.765984</td>\n",
              "    </tr>\n",
              "    <tr>\n",
              "      <th>value_for_money</th>\n",
              "      <td>value_for_money</td>\n",
              "      <td>0.721601</td>\n",
              "    </tr>\n",
              "    <tr>\n",
              "      <th>airline</th>\n",
              "      <td>airline</td>\n",
              "      <td>0.000000</td>\n",
              "    </tr>\n",
              "    <tr>\n",
              "      <th>customer_review</th>\n",
              "      <td>customer_review</td>\n",
              "      <td>0.000000</td>\n",
              "    </tr>\n",
              "    <tr>\n",
              "      <th>review_date</th>\n",
              "      <td>review_date</td>\n",
              "      <td>0.000000</td>\n",
              "    </tr>\n",
              "    <tr>\n",
              "      <th>author</th>\n",
              "      <td>author</td>\n",
              "      <td>0.000000</td>\n",
              "    </tr>\n",
              "    <tr>\n",
              "      <th>recommended</th>\n",
              "      <td>recommended</td>\n",
              "      <td>0.000000</td>\n",
              "    </tr>\n",
              "  </tbody>\n",
              "</table>\n",
              "</div>"
            ],
            "text/plain": [
              "                     column_name  percent_missing\n",
              "aircraft                aircraft        69.402545\n",
              "ground_service    ground_service        38.923029\n",
              "date_flown            date_flown        38.496276\n",
              "route                      route        38.353507\n",
              "traveller_type    traveller_type        38.308504\n",
              "entertainment      entertainment        31.419926\n",
              "food_bev                food_bev        18.361266\n",
              "seat_comfort        seat_comfort         5.833333\n",
              "cabin_service      cabin_service         5.780571\n",
              "overall                  overall         2.963998\n",
              "cabin                      cabin         1.765984\n",
              "value_for_money  value_for_money         0.721601\n",
              "airline                  airline         0.000000\n",
              "customer_review  customer_review         0.000000\n",
              "review_date          review_date         0.000000\n",
              "author                    author         0.000000\n",
              "recommended          recommended         0.000000"
            ]
          },
          "metadata": {},
          "execution_count": 20
        }
      ]
    },
    {
      "cell_type": "code",
      "metadata": {
        "colab": {
          "base_uri": "https://localhost:8080/"
        },
        "id": "FSH4lz7XLYsA",
        "outputId": "b6abc725-3631-4e72-e936-ce6211d9ff9c"
      },
      "source": [
        "airline_df.aircraft.unique()"
      ],
      "execution_count": 21,
      "outputs": [
        {
          "output_type": "execute_result",
          "data": {
            "text/plain": [
              "array([nan, 'A330', 'Boeing 737-800 / A330-300', ...,\n",
              "       'Boeing 737-800 and Embraer 190', 'Boeing 737-400/ 737-800',\n",
              "       'boeing 767'], dtype=object)"
            ]
          },
          "metadata": {},
          "execution_count": 21
        }
      ]
    },
    {
      "cell_type": "code",
      "metadata": {
        "colab": {
          "base_uri": "https://localhost:8080/"
        },
        "id": "qQUnbVGcLZCQ",
        "outputId": "b68d4d72-93e7-441a-8697-4720f44f7edc"
      },
      "source": [
        "#checking the number of unique aircrafts\n",
        "airline_df.aircraft.nunique()"
      ],
      "execution_count": 22,
      "outputs": [
        {
          "output_type": "execute_result",
          "data": {
            "text/plain": [
              "2088"
            ]
          },
          "metadata": {},
          "execution_count": 22
        }
      ]
    },
    {
      "cell_type": "markdown",
      "metadata": {
        "id": "_Z7zZWXOM0Jv"
      },
      "source": [
        "1.   The number of aircraft is very large.So is the perc of null values in them.\n",
        "So this column can be removed\n",
        "2.   Percentage of null values in date_flown is also big. As we will be focusing more on the reviews and it's subset scores, we can drop this column to reduce the null values.\n",
        "3.   The column 'author' doesnt have any significance for the prediction. So this column can also be dropped."
      ]
    },
    {
      "cell_type": "code",
      "metadata": {
        "id": "7sfbf1GWLIdR"
      },
      "source": [
        "airline_df.drop([\"aircraft\",\"date_flown\",\"author\"], axis = 1, inplace = True)"
      ],
      "execution_count": 23,
      "outputs": []
    },
    {
      "cell_type": "code",
      "metadata": {
        "colab": {
          "base_uri": "https://localhost:8080/",
          "height": 483
        },
        "id": "rnDwZfUENx9R",
        "outputId": "38182132-ed9b-4203-b55f-e67721aab2dd"
      },
      "source": [
        "#Checking the new null value percentage\n",
        "missing_values_per_check(airline_df)"
      ],
      "execution_count": 24,
      "outputs": [
        {
          "output_type": "execute_result",
          "data": {
            "text/html": [
              "<div>\n",
              "<style scoped>\n",
              "    .dataframe tbody tr th:only-of-type {\n",
              "        vertical-align: middle;\n",
              "    }\n",
              "\n",
              "    .dataframe tbody tr th {\n",
              "        vertical-align: top;\n",
              "    }\n",
              "\n",
              "    .dataframe thead th {\n",
              "        text-align: right;\n",
              "    }\n",
              "</style>\n",
              "<table border=\"1\" class=\"dataframe\">\n",
              "  <thead>\n",
              "    <tr style=\"text-align: right;\">\n",
              "      <th></th>\n",
              "      <th>column_name</th>\n",
              "      <th>percent_missing</th>\n",
              "    </tr>\n",
              "  </thead>\n",
              "  <tbody>\n",
              "    <tr>\n",
              "      <th>ground_service</th>\n",
              "      <td>ground_service</td>\n",
              "      <td>38.923029</td>\n",
              "    </tr>\n",
              "    <tr>\n",
              "      <th>route</th>\n",
              "      <td>route</td>\n",
              "      <td>38.353507</td>\n",
              "    </tr>\n",
              "    <tr>\n",
              "      <th>traveller_type</th>\n",
              "      <td>traveller_type</td>\n",
              "      <td>38.308504</td>\n",
              "    </tr>\n",
              "    <tr>\n",
              "      <th>entertainment</th>\n",
              "      <td>entertainment</td>\n",
              "      <td>31.419926</td>\n",
              "    </tr>\n",
              "    <tr>\n",
              "      <th>food_bev</th>\n",
              "      <td>food_bev</td>\n",
              "      <td>18.361266</td>\n",
              "    </tr>\n",
              "    <tr>\n",
              "      <th>seat_comfort</th>\n",
              "      <td>seat_comfort</td>\n",
              "      <td>5.833333</td>\n",
              "    </tr>\n",
              "    <tr>\n",
              "      <th>cabin_service</th>\n",
              "      <td>cabin_service</td>\n",
              "      <td>5.780571</td>\n",
              "    </tr>\n",
              "    <tr>\n",
              "      <th>overall</th>\n",
              "      <td>overall</td>\n",
              "      <td>2.963998</td>\n",
              "    </tr>\n",
              "    <tr>\n",
              "      <th>cabin</th>\n",
              "      <td>cabin</td>\n",
              "      <td>1.765984</td>\n",
              "    </tr>\n",
              "    <tr>\n",
              "      <th>value_for_money</th>\n",
              "      <td>value_for_money</td>\n",
              "      <td>0.721601</td>\n",
              "    </tr>\n",
              "    <tr>\n",
              "      <th>airline</th>\n",
              "      <td>airline</td>\n",
              "      <td>0.000000</td>\n",
              "    </tr>\n",
              "    <tr>\n",
              "      <th>review_date</th>\n",
              "      <td>review_date</td>\n",
              "      <td>0.000000</td>\n",
              "    </tr>\n",
              "    <tr>\n",
              "      <th>customer_review</th>\n",
              "      <td>customer_review</td>\n",
              "      <td>0.000000</td>\n",
              "    </tr>\n",
              "    <tr>\n",
              "      <th>recommended</th>\n",
              "      <td>recommended</td>\n",
              "      <td>0.000000</td>\n",
              "    </tr>\n",
              "  </tbody>\n",
              "</table>\n",
              "</div>"
            ],
            "text/plain": [
              "                     column_name  percent_missing\n",
              "ground_service    ground_service        38.923029\n",
              "route                      route        38.353507\n",
              "traveller_type    traveller_type        38.308504\n",
              "entertainment      entertainment        31.419926\n",
              "food_bev                food_bev        18.361266\n",
              "seat_comfort        seat_comfort         5.833333\n",
              "cabin_service      cabin_service         5.780571\n",
              "overall                  overall         2.963998\n",
              "cabin                      cabin         1.765984\n",
              "value_for_money  value_for_money         0.721601\n",
              "airline                  airline         0.000000\n",
              "review_date          review_date         0.000000\n",
              "customer_review  customer_review         0.000000\n",
              "recommended          recommended         0.000000"
            ]
          },
          "metadata": {},
          "execution_count": 24
        }
      ]
    },
    {
      "cell_type": "markdown",
      "metadata": {
        "id": "XvNvA1wSN0Pm"
      },
      "source": [
        "We are still left with lot of null values. Lets drop the rows with remaining null values in them."
      ]
    },
    {
      "cell_type": "code",
      "metadata": {
        "id": "mulxUNxnOFfE"
      },
      "source": [
        "#Dropping the null value rows\n",
        "airline_df.dropna(axis=0,how='any',inplace = True)"
      ],
      "execution_count": 25,
      "outputs": []
    },
    {
      "cell_type": "code",
      "metadata": {
        "colab": {
          "base_uri": "https://localhost:8080/"
        },
        "id": "VDMvJorl5JOY",
        "outputId": "63abbee1-99ba-4159-8c9e-1bb90af1961b"
      },
      "source": [
        "#Checking the number of duplicates in the dataset\n",
        "len(airline_df[airline_df.duplicated( keep='first')])"
      ],
      "execution_count": 26,
      "outputs": [
        {
          "output_type": "execute_result",
          "data": {
            "text/plain": [
              "1744"
            ]
          },
          "metadata": {},
          "execution_count": 26
        }
      ]
    },
    {
      "cell_type": "code",
      "metadata": {
        "id": "mnmlLPBL5ZZW"
      },
      "source": [
        "#Removing the duplicates\n",
        "airline_df.drop_duplicates(keep='first', inplace = True)"
      ],
      "execution_count": 27,
      "outputs": []
    },
    {
      "cell_type": "code",
      "metadata": {
        "colab": {
          "base_uri": "https://localhost:8080/"
        },
        "id": "z4209tOX5l0k",
        "outputId": "cac26142-0e01-4371-d6cb-3199f05fe421"
      },
      "source": [
        "#confirming that the duplicate rows are deleted\n",
        "len(airline_df[airline_df.duplicated( keep='first')])"
      ],
      "execution_count": 28,
      "outputs": [
        {
          "output_type": "execute_result",
          "data": {
            "text/plain": [
              "0"
            ]
          },
          "metadata": {},
          "execution_count": 28
        }
      ]
    },
    {
      "cell_type": "code",
      "metadata": {
        "colab": {
          "base_uri": "https://localhost:8080/",
          "height": 483
        },
        "id": "7WtC6Bku5u38",
        "outputId": "2063d5ce-c6b7-4a94-fad4-def895154af9"
      },
      "source": [
        "#Checking the new null value percentage\n",
        "missing_values_per_check(airline_df)"
      ],
      "execution_count": 29,
      "outputs": [
        {
          "output_type": "execute_result",
          "data": {
            "text/html": [
              "<div>\n",
              "<style scoped>\n",
              "    .dataframe tbody tr th:only-of-type {\n",
              "        vertical-align: middle;\n",
              "    }\n",
              "\n",
              "    .dataframe tbody tr th {\n",
              "        vertical-align: top;\n",
              "    }\n",
              "\n",
              "    .dataframe thead th {\n",
              "        text-align: right;\n",
              "    }\n",
              "</style>\n",
              "<table border=\"1\" class=\"dataframe\">\n",
              "  <thead>\n",
              "    <tr style=\"text-align: right;\">\n",
              "      <th></th>\n",
              "      <th>column_name</th>\n",
              "      <th>percent_missing</th>\n",
              "    </tr>\n",
              "  </thead>\n",
              "  <tbody>\n",
              "    <tr>\n",
              "      <th>airline</th>\n",
              "      <td>airline</td>\n",
              "      <td>0.0</td>\n",
              "    </tr>\n",
              "    <tr>\n",
              "      <th>overall</th>\n",
              "      <td>overall</td>\n",
              "      <td>0.0</td>\n",
              "    </tr>\n",
              "    <tr>\n",
              "      <th>review_date</th>\n",
              "      <td>review_date</td>\n",
              "      <td>0.0</td>\n",
              "    </tr>\n",
              "    <tr>\n",
              "      <th>customer_review</th>\n",
              "      <td>customer_review</td>\n",
              "      <td>0.0</td>\n",
              "    </tr>\n",
              "    <tr>\n",
              "      <th>traveller_type</th>\n",
              "      <td>traveller_type</td>\n",
              "      <td>0.0</td>\n",
              "    </tr>\n",
              "    <tr>\n",
              "      <th>cabin</th>\n",
              "      <td>cabin</td>\n",
              "      <td>0.0</td>\n",
              "    </tr>\n",
              "    <tr>\n",
              "      <th>route</th>\n",
              "      <td>route</td>\n",
              "      <td>0.0</td>\n",
              "    </tr>\n",
              "    <tr>\n",
              "      <th>seat_comfort</th>\n",
              "      <td>seat_comfort</td>\n",
              "      <td>0.0</td>\n",
              "    </tr>\n",
              "    <tr>\n",
              "      <th>cabin_service</th>\n",
              "      <td>cabin_service</td>\n",
              "      <td>0.0</td>\n",
              "    </tr>\n",
              "    <tr>\n",
              "      <th>food_bev</th>\n",
              "      <td>food_bev</td>\n",
              "      <td>0.0</td>\n",
              "    </tr>\n",
              "    <tr>\n",
              "      <th>entertainment</th>\n",
              "      <td>entertainment</td>\n",
              "      <td>0.0</td>\n",
              "    </tr>\n",
              "    <tr>\n",
              "      <th>ground_service</th>\n",
              "      <td>ground_service</td>\n",
              "      <td>0.0</td>\n",
              "    </tr>\n",
              "    <tr>\n",
              "      <th>value_for_money</th>\n",
              "      <td>value_for_money</td>\n",
              "      <td>0.0</td>\n",
              "    </tr>\n",
              "    <tr>\n",
              "      <th>recommended</th>\n",
              "      <td>recommended</td>\n",
              "      <td>0.0</td>\n",
              "    </tr>\n",
              "  </tbody>\n",
              "</table>\n",
              "</div>"
            ],
            "text/plain": [
              "                     column_name  percent_missing\n",
              "airline                  airline              0.0\n",
              "overall                  overall              0.0\n",
              "review_date          review_date              0.0\n",
              "customer_review  customer_review              0.0\n",
              "traveller_type    traveller_type              0.0\n",
              "cabin                      cabin              0.0\n",
              "route                      route              0.0\n",
              "seat_comfort        seat_comfort              0.0\n",
              "cabin_service      cabin_service              0.0\n",
              "food_bev                food_bev              0.0\n",
              "entertainment      entertainment              0.0\n",
              "ground_service    ground_service              0.0\n",
              "value_for_money  value_for_money              0.0\n",
              "recommended          recommended              0.0"
            ]
          },
          "metadata": {},
          "execution_count": 29
        }
      ]
    },
    {
      "cell_type": "code",
      "metadata": {
        "colab": {
          "base_uri": "https://localhost:8080/"
        },
        "id": "0TwXWt3fLwU9",
        "outputId": "98f366a2-7ce4-44b0-a733-08fa465dcfa7"
      },
      "source": [
        "perc =(len(airline_df)/len(airline_df_copy))  * 100\n",
        "perc"
      ],
      "execution_count": 58,
      "outputs": [
        {
          "output_type": "execute_result",
          "data": {
            "text/plain": [
              "17.306190530346107"
            ]
          },
          "metadata": {},
          "execution_count": 58
        }
      ]
    },
    {
      "cell_type": "markdown",
      "metadata": {
        "id": "9Ys1ew4KMDvL"
      },
      "source": [
        "After removing the messy and duplicate data, the dataset is down to around 17% of the original data!! But it is all clean.\n",
        "\n",
        "It is better to work with clean data for prediction rather than huge corrupt data."
      ]
    },
    {
      "cell_type": "code",
      "metadata": {
        "colab": {
          "base_uri": "https://localhost:8080/",
          "height": 356
        },
        "id": "OirVNXDogKAb",
        "outputId": "cfb248fd-19fa-42f7-ecfe-1790c40c6d9a"
      },
      "source": [
        "#Visualizing the recommendation count \n",
        "plt.figure(figsize=(10,5))\n",
        "sns.countplot(x = 'recommended', data = airline_df)"
      ],
      "execution_count": 31,
      "outputs": [
        {
          "output_type": "execute_result",
          "data": {
            "text/plain": [
              "<matplotlib.axes._subplots.AxesSubplot at 0x7f3dc83e0350>"
            ]
          },
          "metadata": {},
          "execution_count": 31
        },
        {
          "output_type": "display_data",
          "data": {
            "image/png": "[encoded data removed]",
            "text/plain": [
              "<Figure size 720x360 with 1 Axes>"
            ]
          },
          "metadata": {
            "needs_background": "light"
          }
        }
      ]
    },
    {
      "cell_type": "code",
      "metadata": {
        "colab": {
          "base_uri": "https://localhost:8080/",
          "height": 356
        },
        "id": "yt-DnvWv2q4T",
        "outputId": "a36bde3a-76d3-4848-be67-f563ad761576"
      },
      "source": [
        "#Count of each type of travellers\n",
        "plt.figure(figsize=(10,5))\n",
        "sns.countplot(x = 'traveller_type', data = airline_df)"
      ],
      "execution_count": 32,
      "outputs": [
        {
          "output_type": "execute_result",
          "data": {
            "text/plain": [
              "<matplotlib.axes._subplots.AxesSubplot at 0x7f3dc3fc1c50>"
            ]
          },
          "metadata": {},
          "execution_count": 32
        },
        {
          "output_type": "display_data",
          "data": {
            "image/png": "[encoded data removed]",
            "text/plain": [
              "<Figure size 720x360 with 1 Axes>"
            ]
          },
          "metadata": {
            "needs_background": "light"
          }
        }
      ]
    },
    {
      "cell_type": "markdown",
      "metadata": {
        "id": "ANHG8T9awEG1"
      },
      "source": [
        "As author is the name of the reviewer and doesnt contribute anything significant to the prediction, we can drop this column."
      ]
    },
    {
      "cell_type": "code",
      "metadata": {
        "colab": {
          "base_uri": "https://localhost:8080/",
          "height": 137
        },
        "id": "XCJQqz-Zm8nK",
        "outputId": "8d7d7c10-88ac-4e68-ad4b-2658c5ac9257"
      },
      "source": [
        "#Checking the full text of customer review from the first column to have an understanding of how it looks\n",
        "airline_df.iloc[0,:]['customer_review']"
      ],
      "execution_count": 33,
      "outputs": [
        {
          "output_type": "execute_result",
          "data": {
            "application/vnd.google.colaboratory.intrinsic+json": {
              "type": "string"
            },
            "text/plain": [
              "'âœ… Trip Verified | London to Izmir via Istanbul. First time Iâ€™d flown TK. I found them very good in the air, cabin crew, planes, food, all very nice. Not so great on the ground, ground staff, call centre, computer systems. My flight from LHR was delayed so I missed the connection in Istanbul. Most ground staff donâ€™t speak English, and I was given contradictory instructions from those that could speak a little English. I eventually got on a flight to Izmir three hours later, but it wasnâ€™t an easy process, made worse by the vast distances one has to walk between gates in the cavernous new airport. Also, Iâ€™d phoned a TK call centre (based in Ukraine) to pay an extra Â£40 or so each way for extra leg room seats. However, as the departure times kept changing, my seats kept changing, and for the return leg to London from Istanbul I was not given an extra leg room seat. Luckily there was a spare exit row seat and the cabin crew sorted me out. Overall, I think their cabin crew and planes are very good, ground staff and call centre staff need better training and they all need better computer systems and software to work with.'"
            ]
          },
          "metadata": {},
          "execution_count": 33
        }
      ]
    },
    {
      "cell_type": "code",
      "metadata": {
        "colab": {
          "base_uri": "https://localhost:8080/",
          "height": 669
        },
        "id": "ec3_Ew1XfCYi",
        "outputId": "478b0afb-d4a6-485e-fd21-dc6a6e7bce20"
      },
      "source": [
        "#Checking the route column and customer_review column side by side\n",
        "airline_df[['route','customer_review']].head(20)"
      ],
      "execution_count": 34,
      "outputs": [
        {
          "output_type": "execute_result",
          "data": {
            "text/html": [
              "<div>\n",
              "<style scoped>\n",
              "    .dataframe tbody tr th:only-of-type {\n",
              "        vertical-align: middle;\n",
              "    }\n",
              "\n",
              "    .dataframe tbody tr th {\n",
              "        vertical-align: top;\n",
              "    }\n",
              "\n",
              "    .dataframe thead th {\n",
              "        text-align: right;\n",
              "    }\n",
              "</style>\n",
              "<table border=\"1\" class=\"dataframe\">\n",
              "  <thead>\n",
              "    <tr style=\"text-align: right;\">\n",
              "      <th></th>\n",
              "      <th>route</th>\n",
              "      <th>customer_review</th>\n",
              "    </tr>\n",
              "  </thead>\n",
              "  <tbody>\n",
              "    <tr>\n",
              "      <th>1</th>\n",
              "      <td>London to Izmir via Istanbul</td>\n",
              "      <td>âœ… Trip Verified | London to Izmir via Istanb...</td>\n",
              "    </tr>\n",
              "    <tr>\n",
              "      <th>3</th>\n",
              "      <td>Istanbul to Bucharest</td>\n",
              "      <td>âœ… Trip Verified | Istanbul to Bucharest. We ...</td>\n",
              "    </tr>\n",
              "    <tr>\n",
              "      <th>5</th>\n",
              "      <td>Rome to Prishtina via Istanbul</td>\n",
              "      <td>âœ… Trip Verified | Rome to Prishtina via Ista...</td>\n",
              "    </tr>\n",
              "    <tr>\n",
              "      <th>7</th>\n",
              "      <td>Washington Dulles to Karachi</td>\n",
              "      <td>âœ… Trip Verified | Flew on Turkish Airlines I...</td>\n",
              "    </tr>\n",
              "    <tr>\n",
              "      <th>9</th>\n",
              "      <td>Mumbai to Dublin via Istanbul</td>\n",
              "      <td>âœ… Trip Verified | Mumbai to Dublin via Istan...</td>\n",
              "    </tr>\n",
              "    <tr>\n",
              "      <th>11</th>\n",
              "      <td>Istanbul to Budapest via Dublin</td>\n",
              "      <td>âœ… Trip Verified | Istanbul to Budapest via D...</td>\n",
              "    </tr>\n",
              "    <tr>\n",
              "      <th>15</th>\n",
              "      <td>Basel to Cape Town via Istanbul</td>\n",
              "      <td>âœ… Trip Verified | Basel to Cape Town via Ist...</td>\n",
              "    </tr>\n",
              "    <tr>\n",
              "      <th>17</th>\n",
              "      <td>Abu Dhabi to Luxembourg via Istanbul</td>\n",
              "      <td>Not Verified | Abu Dhabi to Luxembourg via Ist...</td>\n",
              "    </tr>\n",
              "    <tr>\n",
              "      <th>19</th>\n",
              "      <td>Venice to Boston via Istanbul</td>\n",
              "      <td>âœ… Trip Verified | The experience with Turkis...</td>\n",
              "    </tr>\n",
              "    <tr>\n",
              "      <th>23</th>\n",
              "      <td>Tehran to New York via Istanbul</td>\n",
              "      <td>âœ… Trip Verified | Tehran to New York via Ist...</td>\n",
              "    </tr>\n",
              "    <tr>\n",
              "      <th>27</th>\n",
              "      <td>Dublin to Tel Aviv via Ä°stanbul</td>\n",
              "      <td>âœ… Trip Verified | Dublin to Tel Aviv via Ä°s...</td>\n",
              "    </tr>\n",
              "    <tr>\n",
              "      <th>29</th>\n",
              "      <td>Houston to Kiev via Istanbul</td>\n",
              "      <td>âœ… Trip Verified | Houston to Kiev via Istanb...</td>\n",
              "    </tr>\n",
              "    <tr>\n",
              "      <th>31</th>\n",
              "      <td>Tashkent to Istanbul</td>\n",
              "      <td>âœ… Trip Verified | Tashkent to Istanbul. A po...</td>\n",
              "    </tr>\n",
              "    <tr>\n",
              "      <th>33</th>\n",
              "      <td>Istanbul to Prague</td>\n",
              "      <td>âœ… Trip Verified | Istanbul to Prague. The cr...</td>\n",
              "    </tr>\n",
              "    <tr>\n",
              "      <th>35</th>\n",
              "      <td>Nakhchivan to Istanbul</td>\n",
              "      <td>âœ… Trip Verified | Nakhchivan to Istanbul. Th...</td>\n",
              "    </tr>\n",
              "    <tr>\n",
              "      <th>37</th>\n",
              "      <td>London Heathrow to Istanbul</td>\n",
              "      <td>âœ… Trip Verified | London Heathrow to Istanbu...</td>\n",
              "    </tr>\n",
              "    <tr>\n",
              "      <th>41</th>\n",
              "      <td>Izmir to Istanbul</td>\n",
              "      <td>âœ… Trip Verified | Izmir to Istanbul. It was ...</td>\n",
              "    </tr>\n",
              "    <tr>\n",
              "      <th>43</th>\n",
              "      <td>New Delhi to Cappadocia via Istanbul</td>\n",
              "      <td>âœ… Trip Verified | New Delhi to Cappadocia vi...</td>\n",
              "    </tr>\n",
              "    <tr>\n",
              "      <th>47</th>\n",
              "      <td>Baku to Amsterdam via Istanbul</td>\n",
              "      <td>âœ… Trip Verified | Baku to Amsterdam via Ista...</td>\n",
              "    </tr>\n",
              "    <tr>\n",
              "      <th>49</th>\n",
              "      <td>New York JFK to Tel Aviv via Istanbul</td>\n",
              "      <td>Not Verified | New York JFK to Tel Aviv via Is...</td>\n",
              "    </tr>\n",
              "  </tbody>\n",
              "</table>\n",
              "</div>"
            ],
            "text/plain": [
              "                                    route                                    customer_review\n",
              "1            London to Izmir via Istanbul  âœ… Trip Verified | London to Izmir via Istanb...\n",
              "3                   Istanbul to Bucharest  âœ… Trip Verified | Istanbul to Bucharest. We ...\n",
              "5          Rome to Prishtina via Istanbul  âœ… Trip Verified | Rome to Prishtina via Ista...\n",
              "7            Washington Dulles to Karachi  âœ… Trip Verified | Flew on Turkish Airlines I...\n",
              "9           Mumbai to Dublin via Istanbul  âœ… Trip Verified | Mumbai to Dublin via Istan...\n",
              "11        Istanbul to Budapest via Dublin  âœ… Trip Verified | Istanbul to Budapest via D...\n",
              "15        Basel to Cape Town via Istanbul  âœ… Trip Verified | Basel to Cape Town via Ist...\n",
              "17   Abu Dhabi to Luxembourg via Istanbul  Not Verified | Abu Dhabi to Luxembourg via Ist...\n",
              "19          Venice to Boston via Istanbul  âœ… Trip Verified | The experience with Turkis...\n",
              "23        Tehran to New York via Istanbul  âœ… Trip Verified | Tehran to New York via Ist...\n",
              "27       Dublin to Tel Aviv via Ä°stanbul  âœ… Trip Verified | Dublin to Tel Aviv via Ä°s...\n",
              "29           Houston to Kiev via Istanbul  âœ… Trip Verified | Houston to Kiev via Istanb...\n",
              "31                   Tashkent to Istanbul  âœ… Trip Verified | Tashkent to Istanbul. A po...\n",
              "33                     Istanbul to Prague  âœ… Trip Verified | Istanbul to Prague. The cr...\n",
              "35                 Nakhchivan to Istanbul  âœ… Trip Verified | Nakhchivan to Istanbul. Th...\n",
              "37            London Heathrow to Istanbul  âœ… Trip Verified | London Heathrow to Istanbu...\n",
              "41                      Izmir to Istanbul  âœ… Trip Verified | Izmir to Istanbul. It was ...\n",
              "43   New Delhi to Cappadocia via Istanbul  âœ… Trip Verified | New Delhi to Cappadocia vi...\n",
              "47         Baku to Amsterdam via Istanbul  âœ… Trip Verified | Baku to Amsterdam via Ista...\n",
              "49  New York JFK to Tel Aviv via Istanbul  Not Verified | New York JFK to Tel Aviv via Is..."
            ]
          },
          "metadata": {},
          "execution_count": 34
        }
      ]
    },
    {
      "cell_type": "code",
      "metadata": {
        "colab": {
          "base_uri": "https://localhost:8080/",
          "height": 35
        },
        "id": "4X8HPQsYfEJs",
        "outputId": "69a228c4-18a8-4c81-8610-f3f29f0f3c44"
      },
      "source": [
        "#Checking the route in the third column\n",
        "airline_df.iloc[2,:]['route']"
      ],
      "execution_count": 35,
      "outputs": [
        {
          "output_type": "execute_result",
          "data": {
            "application/vnd.google.colaboratory.intrinsic+json": {
              "type": "string"
            },
            "text/plain": [
              "'Rome to Prishtina via Istanbul'"
            ]
          },
          "metadata": {},
          "execution_count": 35
        }
      ]
    },
    {
      "cell_type": "code",
      "metadata": {
        "colab": {
          "base_uri": "https://localhost:8080/",
          "height": 137
        },
        "id": "1ZjWTeIZfvCj",
        "outputId": "a13f2aee-2a7f-4b8a-f854-c4c79e62674d"
      },
      "source": [
        "#Checking the full text of customer review from the third column to have an understanding of how it looks\n",
        "airline_df.iloc[2,:]['customer_review']"
      ],
      "execution_count": 36,
      "outputs": [
        {
          "output_type": "execute_result",
          "data": {
            "application/vnd.google.colaboratory.intrinsic+json": {
              "type": "string"
            },
            "text/plain": [
              "'âœ… Trip Verified | Rome to Prishtina via Istanbul. I flew with this company several times in the past years, and I can honestly say that it is getting worse and worse. I flew from Rome to Prishtina via Istanbul, all 4 flights had a delay (which apparently is pretty normal with Turkish). The ground staff is for the most part useless. In Istambul i have tried to ask a few information about a flight delay (i had just 30 minutes before the connecting flight) and the whole answer was: \"Relax Sir, No problem Sir, It\\'s okay\". The new airport is a gigantic mess, very big and disorganized. When you land in Istanbul it takes about 20 to 25 minutes taxiing and other 10 minutes before they actually start disembarking, it\\'s an exhausting experience especially if you are in a hurry. Forget about asking for some indication at the new airport, they all chat between each other, some with a coffee in their hands. I flew with four different aircraft on this trip, two were fairly new, the other two were old, seats worn. Food on board was of very poor quality.., let me repeat this, very...poor quality. In general i can say that crew is decently trained and deliver a good experience or at least they try, of course it is far from the experience you get flying Qatar or Emirates but still pretty good, while ground personnel, especially in Istanbul is the personification of the word Lazy. A complete disaster. I will try and avoid Turkish Airlines in the future, it is not a cheap company and definitely not worth for the money you pay. If you are in a hurry or you know you will be avoid this company and avoid the new istanbul airport at all costs.'"
            ]
          },
          "metadata": {},
          "execution_count": 36
        }
      ]
    },
    {
      "cell_type": "code",
      "metadata": {
        "colab": {
          "base_uri": "https://localhost:8080/",
          "height": 35
        },
        "id": "FBvKxPZif6r3",
        "outputId": "0beeee3c-21d7-46e3-b7ab-c4c02c72e701"
      },
      "source": [
        "#Checking the route in the 10th column from the last\n",
        "airline_df.iloc[10,:]['route']"
      ],
      "execution_count": 37,
      "outputs": [
        {
          "output_type": "execute_result",
          "data": {
            "application/vnd.google.colaboratory.intrinsic+json": {
              "type": "string"
            },
            "text/plain": [
              "'Dublin to Tel Aviv via Ä°stanbul'"
            ]
          },
          "metadata": {},
          "execution_count": 37
        }
      ]
    },
    {
      "cell_type": "code",
      "metadata": {
        "colab": {
          "base_uri": "https://localhost:8080/",
          "height": 137
        },
        "id": "mFiMiqW-f-cE",
        "outputId": "fd00183b-92cb-460f-d1fd-865d5046c20c"
      },
      "source": [
        "#Checking the full text of customer review in the 10th column from the last\n",
        "airline_df.iloc[10,:]['customer_review']"
      ],
      "execution_count": 38,
      "outputs": [
        {
          "output_type": "execute_result",
          "data": {
            "application/vnd.google.colaboratory.intrinsic+json": {
              "type": "string"
            },
            "text/plain": [
              "'âœ… Trip Verified | Dublin to Tel Aviv via Ä°stanbul. First of all our flight was delayed for over an hour, but thatâ€™s fine we crossed that bridge, then when we arrived in Ä°stanbul airport we were told that we missed our connection flight. Ridiculous considering the fact the tickets were bought from Turkish Airlines and not from different companies, ok, 10 minutes of talking to customer service and we got new tickets from Ä°stanbul to Tel Aviv (not same comfortable plane as it supposed to be but still something) Arriving in Tel Aviv we found our 3 bags on the belt but so called oversized bag (which was actually a doll birthday box for my daughter) was missing almost 2 hours waiting for it to be found (no luck) then another half an hour of registering with lost&found made us exhausted (myself my husband and 2 kids aged 3 and 5 at 5am in the morning is no fun at all) We supposed to pick up our rental car in between 3-4am and when we came to get it apparently the car was gone to another customer because we were late. We had no choice but get another more expensive car that was available (I think Turkish airlines should be liable for that as well) We registered lost baggage gave the address and phone number in Petah and asked them to deliver it there as we were going to Eilat for a few days. I was pretty much confident that should be no problem with contact details. I was 5 days later arriving back to Tel Aviv and with no contact from lost&found I rang them to see whatâ€™s the story and I was shocked when I heard that my baggage was delivered to me the following day! Where? When? To who? The answer was simple we have in our system that you baggage left to Eilat next day and was delivered to the hotel so we are really sorry but you have to get it yourself from there! How come they left my baggage in the hotel without notifying me? Answer was: Delivery company rang you but there was no answer. Left a message? I doubt it I think itâ€™s pure lies) Anyway I said I want my baggage back please get it to me! Oh you know it might take couple of days. Fine I said just get it please! Few days later I rang again because nothing came and find out that delivery man came to the hotel in Eilat asked for me but because me and my spouse have different surnames he was told that thereâ€™s no such person registered (but then the question is how could he leave it there if he was told the person is not there) Again I was promised that few days later I will get it. As you can imagine I didnâ€™t. Rang again today asked for the manager (was told the manager is in holiday) got to speak to supervisor and what a surprise she said that the baggage is not in the hotel in Eilat but in airport Eilat and because itâ€™s holiday (Pesah) the airport is closed and they canâ€™t get it. And she said you know itâ€™s your fault that it went to Eilat. When I asked her name she refused to give and hanged up on me.'"
            ]
          },
          "metadata": {},
          "execution_count": 38
        }
      ]
    },
    {
      "cell_type": "markdown",
      "metadata": {
        "id": "vzOdE9zvxY8n"
      },
      "source": [
        "It's clear that the first part of the customer review before the full stop (.) contains the trip route and status. Since we already have another column with route details, this part is not required in the review. We can cut this part of the customer review after checking the trip status details too."
      ]
    },
    {
      "cell_type": "code",
      "metadata": {
        "colab": {
          "base_uri": "https://localhost:8080/"
        },
        "id": "oW0HVC1k6sHI",
        "outputId": "e4121b52-cda5-4932-df74-7eb617a60c49"
      },
      "source": [
        "#Checking the number of trip verified mentions in the customer review column.\n",
        "ver_count=airline_df['customer_review'].str.contains('Trip Verified').sum()\n",
        "print (\"There are {v} verified trips\".format(v=ver_count))"
      ],
      "execution_count": 39,
      "outputs": [
        {
          "output_type": "stream",
          "name": "stdout",
          "text": [
            "There are 7662 verified trips\n"
          ]
        }
      ]
    },
    {
      "cell_type": "code",
      "metadata": {
        "colab": {
          "base_uri": "https://localhost:8080/"
        },
        "id": "m00E-J49uoDy",
        "outputId": "74c58b91-bf46-4d52-acd2-1e4c8e3b74b5"
      },
      "source": [
        "#Checking the number of not verified mentions in the customer review column.\n",
        "not_ver_count=airline_df['customer_review'].str.contains('Not Verified').sum()\n",
        "print (\"{v} trips are not verified\".format(v=not_ver_count))"
      ],
      "execution_count": 40,
      "outputs": [
        {
          "output_type": "stream",
          "name": "stdout",
          "text": [
            "887 trips are not verified\n"
          ]
        }
      ]
    },
    {
      "cell_type": "code",
      "metadata": {
        "colab": {
          "base_uri": "https://localhost:8080/"
        },
        "id": "S15GRoBcvBvP",
        "outputId": "e4ab4a39-cd16-4c37-be0f-26c4676d513f"
      },
      "source": [
        "#total number of rows\n",
        "len(airline_df.index)"
      ],
      "execution_count": 41,
      "outputs": [
        {
          "output_type": "execute_result",
          "data": {
            "text/plain": [
              "22826"
            ]
          },
          "metadata": {},
          "execution_count": 41
        }
      ]
    },
    {
      "cell_type": "code",
      "metadata": {
        "id": "eu2k287Ou48d",
        "colab": {
          "base_uri": "https://localhost:8080/"
        },
        "outputId": "f5ea00c6-1915-4fc5-8e87-3ef8f48e41c7"
      },
      "source": [
        "#calculating the number of rows with no information regarding trip verification status\n",
        "no_info = len(airline_df.index)- (ver_count + not_ver_count )\n",
        "print (\"Verification details missing for {nf} trips\".format(nf=no_info))"
      ],
      "execution_count": 42,
      "outputs": [
        {
          "output_type": "stream",
          "name": "stdout",
          "text": [
            "Verification details missing for 14277 trips\n"
          ]
        }
      ]
    },
    {
      "cell_type": "markdown",
      "metadata": {
        "id": "Ki0F58Rzyqxn"
      },
      "source": [
        "The number of customer reviews which doesn't mention the trip verification status is huge by a big margin compared to the ones which mention the verification status. So it is not worth moving this part to another column."
      ]
    },
    {
      "cell_type": "code",
      "metadata": {
        "id": "ddPIT1Ol9ha_"
      },
      "source": [
        "#Removing the part of customer review whihc mentions route and trip verification status\n",
        "airline_df['customer_review'] = airline_df['customer_review'].str.split('.',n=1,expand=True)[1]"
      ],
      "execution_count": 43,
      "outputs": []
    },
    {
      "cell_type": "code",
      "metadata": {
        "id": "ujG5PFsNlbXD",
        "colab": {
          "base_uri": "https://localhost:8080/",
          "height": 137
        },
        "outputId": "19177770-9ac7-477a-f3ff-771bf8868efe"
      },
      "source": [
        "#Checking the change in same row which we checked before\n",
        "airline_df.iloc[10,:]['customer_review']"
      ],
      "execution_count": 44,
      "outputs": [
        {
          "output_type": "execute_result",
          "data": {
            "application/vnd.google.colaboratory.intrinsic+json": {
              "type": "string"
            },
            "text/plain": [
              "' First of all our flight was delayed for over an hour, but thatâ€™s fine we crossed that bridge, then when we arrived in Ä°stanbul airport we were told that we missed our connection flight. Ridiculous considering the fact the tickets were bought from Turkish Airlines and not from different companies, ok, 10 minutes of talking to customer service and we got new tickets from Ä°stanbul to Tel Aviv (not same comfortable plane as it supposed to be but still something) Arriving in Tel Aviv we found our 3 bags on the belt but so called oversized bag (which was actually a doll birthday box for my daughter) was missing almost 2 hours waiting for it to be found (no luck) then another half an hour of registering with lost&found made us exhausted (myself my husband and 2 kids aged 3 and 5 at 5am in the morning is no fun at all) We supposed to pick up our rental car in between 3-4am and when we came to get it apparently the car was gone to another customer because we were late. We had no choice but get another more expensive car that was available (I think Turkish airlines should be liable for that as well) We registered lost baggage gave the address and phone number in Petah and asked them to deliver it there as we were going to Eilat for a few days. I was pretty much confident that should be no problem with contact details. I was 5 days later arriving back to Tel Aviv and with no contact from lost&found I rang them to see whatâ€™s the story and I was shocked when I heard that my baggage was delivered to me the following day! Where? When? To who? The answer was simple we have in our system that you baggage left to Eilat next day and was delivered to the hotel so we are really sorry but you have to get it yourself from there! How come they left my baggage in the hotel without notifying me? Answer was: Delivery company rang you but there was no answer. Left a message? I doubt it I think itâ€™s pure lies) Anyway I said I want my baggage back please get it to me! Oh you know it might take couple of days. Fine I said just get it please! Few days later I rang again because nothing came and find out that delivery man came to the hotel in Eilat asked for me but because me and my spouse have different surnames he was told that thereâ€™s no such person registered (but then the question is how could he leave it there if he was told the person is not there) Again I was promised that few days later I will get it. As you can imagine I didnâ€™t. Rang again today asked for the manager (was told the manager is in holiday) got to speak to supervisor and what a surprise she said that the baggage is not in the hotel in Eilat but in airport Eilat and because itâ€™s holiday (Pesah) the airport is closed and they canâ€™t get it. And she said you know itâ€™s your fault that it went to Eilat. When I asked her name she refused to give and hanged up on me.'"
            ]
          },
          "metadata": {},
          "execution_count": 44
        }
      ]
    },
    {
      "cell_type": "markdown",
      "metadata": {
        "id": "GRsEdWkOzuyO"
      },
      "source": [
        "These customer reviews in words give out lot of sentiments. This could be one of major deciding factors for recommendation .So let's work on these reviews."
      ]
    },
    {
      "cell_type": "markdown",
      "metadata": {
        "id": "qwO25Q1g0TE8"
      },
      "source": [
        "Sentiment analysis is part of the Natural Language Processing (NLP) techniques that consists in extracting emotions related to some raw texts.\n",
        "\n",
        "Lets apply this to our customer review column."
      ]
    },
    {
      "cell_type": "code",
      "metadata": {
        "id": "hapaX0YhQazH"
      },
      "source": [
        "#Replacing all the null values of customer review column with 'NA'\n",
        "airline_df['customer_review'].fillna('NA',inplace = True)"
      ],
      "execution_count": 45,
      "outputs": []
    },
    {
      "cell_type": "code",
      "metadata": {
        "id": "wKcYDL0-1DcW",
        "colab": {
          "base_uri": "https://localhost:8080/"
        },
        "outputId": "c951f1a8-7d6f-41ff-8c45-ae6747981e4a"
      },
      "source": [
        "#importing all the libraries required for sentiment analysis\n",
        "import string\n",
        "import nltk \n",
        "from nltk import pos_tag\n",
        "from nltk.corpus import stopwords\n",
        "from nltk.tokenize import WhitespaceTokenizer\n",
        "from nltk.stem import WordNetLemmatizer\n",
        "from nltk.corpus import wordnet\n",
        "\n",
        "# add sentiment anaylsis columns\n",
        "from nltk.sentiment.vader import SentimentIntensityAnalyzer\n",
        "\n",
        "#downloading all the required packages\n",
        "nltk.download(\"stopwords\")\n",
        "nltk.download('averaged_perceptron_tagger')\n",
        "nltk.download(\"wordnet\")\n",
        "nltk.download('vader_lexicon')\n"
      ],
      "execution_count": 46,
      "outputs": [
        {
          "output_type": "stream",
          "name": "stdout",
          "text": [
            "[nltk_data] Downloading package stopwords to /root/nltk_data...\n",
            "[nltk_data]   Unzipping corpora/stopwords.zip.\n",
            "[nltk_data] Downloading package averaged_perceptron_tagger to\n",
            "[nltk_data]     /root/nltk_data...\n",
            "[nltk_data]   Unzipping taggers/averaged_perceptron_tagger.zip.\n",
            "[nltk_data] Downloading package wordnet to /root/nltk_data...\n",
            "[nltk_data]   Unzipping corpora/wordnet.zip.\n",
            "[nltk_data] Downloading package vader_lexicon to /root/nltk_data...\n"
          ]
        },
        {
          "output_type": "execute_result",
          "data": {
            "text/plain": [
              "True"
            ]
          },
          "metadata": {},
          "execution_count": 46
        }
      ]
    },
    {
      "cell_type": "code",
      "metadata": {
        "id": "CskzvR2kEWI8"
      },
      "source": [
        "# return the wordnet object value corresponding to the POS tag\n",
        "def get_wordnet_pos(pos_tag):\n",
        "    if pos_tag.startswith('J'):\n",
        "        return wordnet.ADJ\n",
        "    elif pos_tag.startswith('V'):\n",
        "        return wordnet.VERB\n",
        "    elif pos_tag.startswith('N'):\n",
        "        return wordnet.NOUN\n",
        "    elif pos_tag.startswith('R'):\n",
        "        return wordnet.ADV\n",
        "    else:\n",
        "        return wordnet.NOUN\n",
        "\n",
        "#Including all the techniques for cleaning the text in a single function\n",
        "def clean_text(text):\n",
        "    # lower text\n",
        "    text = text.lower()\n",
        "    # tokenize text and remove puncutation\n",
        "    text = [word.strip(string.punctuation) for word in text.split(\" \")]\n",
        "    # remove words that contain numbers\n",
        "    text = [word for word in text if not any(c.isdigit() for c in word)]\n",
        "    # remove stop words\n",
        "    stop = stopwords.words('english')\n",
        "    text = [x for x in text if x not in stop]\n",
        "    # remove empty tokens\n",
        "    text = [t for t in text if len(t) > 0]\n",
        "    # pos tag text\n",
        "    pos_tags = pos_tag(text)\n",
        "    # lemmatize text\n",
        "    text = [WordNetLemmatizer().lemmatize(t[0], get_wordnet_pos(t[1])) for t in pos_tags]\n",
        "    # remove words with only one letter\n",
        "    text = [t for t in text if len(t) > 1]\n",
        "    # join all\n",
        "    text = \" \".join(text)\n",
        "    return(text)"
      ],
      "execution_count": 47,
      "outputs": []
    },
    {
      "cell_type": "code",
      "metadata": {
        "id": "O4ERN4cTNJDH"
      },
      "source": [
        "#Clean the customer_review column texts for sentiment analysis\n",
        "airline_df[\"customer_review\"] = airline_df[\"customer_review\"].apply(lambda x: clean_text(x))"
      ],
      "execution_count": 48,
      "outputs": []
    },
    {
      "cell_type": "code",
      "metadata": {
        "colab": {
          "base_uri": "https://localhost:8080/",
          "height": 137
        },
        "id": "S-04YKoxSGy5",
        "outputId": "14036bfb-baf8-40b2-ce6e-0ee8f190e66a"
      },
      "source": [
        "#checking one of the clean texts from one of the customer review columns\n",
        "airline_df.iloc[10,:]['customer_review']"
      ],
      "execution_count": 49,
      "outputs": [
        {
          "output_type": "execute_result",
          "data": {
            "application/vnd.google.colaboratory.intrinsic+json": {
              "type": "string"
            },
            "text/plain": [
              "'first flight delay hour thatâ€™s fine cross bridge arrive ä°stanbul airport tell miss connection flight ridiculous consider fact ticket buy turkish airline different company ok minute talk customer service get new ticket ä°stanbul tel aviv comfortable plane suppose still something arrive tel aviv find bag belt call oversized bag actually doll birthday box daughter miss almost hour wait find luck another half hour register lost&found make exhausted husband kid age morning fun suppose pick rental car come get apparently car go another customer late choice get another expensive car available think turkish airline liable well register lose baggage give address phone number petah ask deliver go eilat day pretty much confident problem contact detail day later arrive back tel aviv contact lost&found ring see whatâ€™s story shock heard baggage deliver following day answer simple system baggage leave eilat next day deliver hotel really sorry get come left baggage hotel without notify answer delivery company rang answer leave message doubt think itâ€™s pure lie anyway say want baggage back please get oh know might take couple day fine say get please day later ring nothing come find delivery man come hotel eilat ask spouse different surname tell thereâ€™s person registered question could leave tell person promise day later get imagine didnâ€™t rang today ask manager tell manager holiday get speak supervisor surprise say baggage hotel eilat airport eilat itâ€™s holiday pesah airport close canâ€™t get say know itâ€™s fault go eilat ask name refuse give hanged'"
            ]
          },
          "metadata": {},
          "execution_count": 49
        }
      ]
    },
    {
      "cell_type": "code",
      "metadata": {
        "id": "liMA3N33PG0Q"
      },
      "source": [
        "#Make new columns for the negativity, positivity and neutrality derived from the sentiment analysis \n",
        "sid = SentimentIntensityAnalyzer()\n",
        "airline_df[\"review_Sentiments\"] = airline_df[\"customer_review\"].apply(lambda x: sid.polarity_scores(x))\n",
        "airline_df = pd.concat([airline_df.drop(['review_Sentiments'], axis=1), airline_df['review_Sentiments'].apply(pd.Series)], axis=1)\n"
      ],
      "execution_count": 50,
      "outputs": []
    },
    {
      "cell_type": "code",
      "metadata": {
        "id": "ZqueQafM3DUm"
      },
      "source": [
        "#Rename the new columns for more readability\n",
        "airline_df.rename(columns={'neg':'Negative Sentiment Score', 'pos':'Positive Sentiment Score' ,\n",
        "                           'neu' : 'Neutal Sentiment Score' , 'compound':'Overall Sentiment Score'}, inplace=True)"
      ],
      "execution_count": 51,
      "outputs": []
    },
    {
      "cell_type": "code",
      "metadata": {
        "id": "mCDgvk5sSxPa"
      },
      "source": [
        "#Calculating the overall customer review sentiments\n",
        "airline_df[\"Overall Review Sentiment\"] = np.where(airline_df[\"Overall Sentiment Score\"] >= 0.05,\"Positive\",\n",
        "                                                       np.where(airline_df[\"Overall Sentiment Score\"] <= -0.05,\"Negative\",\"Neutral\"))\n"
      ],
      "execution_count": 52,
      "outputs": []
    },
    {
      "cell_type": "code",
      "metadata": {
        "colab": {
          "base_uri": "https://localhost:8080/",
          "height": 358
        },
        "id": "ajDwEyXup8V0",
        "outputId": "48305ff0-83b9-49bd-8228-9ab4fd840a0d"
      },
      "source": [
        "plt.figure(figsize=(10,5))\n",
        "sns.countplot(x = 'Overall Review Sentiment', data = airline_df)"
      ],
      "execution_count": 53,
      "outputs": [
        {
          "output_type": "execute_result",
          "data": {
            "text/plain": [
              "<matplotlib.axes._subplots.AxesSubplot at 0x7f3dba2fcd10>"
            ]
          },
          "metadata": {},
          "execution_count": 53
        },
        {
          "output_type": "display_data",
          "data": {
            "image/png": "[encoded data removed]",
            "text/plain": [
              "<Figure size 720x360 with 1 Axes>"
            ]
          },
          "metadata": {
            "needs_background": "light"
          }
        }
      ]
    },
    {
      "cell_type": "code",
      "metadata": {
        "id": "clHNHvelqWah"
      },
      "source": [
        "#Lets split this dataset into three with respect to the overall review sentiment for some analysis\n",
        "overall_positive= airline_df[airline_df[\"Overall Review Sentiment\"] == \"Positive\"]\n",
        "overall_negative= airline_df[airline_df[\"Overall Review Sentiment\"] == \"Negative\"]\n",
        "overall_neutral= airline_df[airline_df[\"Overall Review Sentiment\"] == \"Neutral\"]"
      ],
      "execution_count": 54,
      "outputs": []
    },
    {
      "cell_type": "code",
      "metadata": {
        "colab": {
          "base_uri": "https://localhost:8080/",
          "height": 356
        },
        "id": "G1t0j2yjqtNa",
        "outputId": "26dbec9e-6803-4de5-9bc5-cc421f6036b9"
      },
      "source": [
        "#Comparing the overall review sentiment positivity to the recommendation\n",
        "plt.figure(figsize=(10,5))\n",
        "sns.countplot(x = 'recommended', data = overall_positive , palette = \"Spectral_r\")"
      ],
      "execution_count": 55,
      "outputs": [
        {
          "output_type": "execute_result",
          "data": {
            "text/plain": [
              "<matplotlib.axes._subplots.AxesSubplot at 0x7f3db8738050>"
            ]
          },
          "metadata": {},
          "execution_count": 55
        },
        {
          "output_type": "display_data",
          "data": {
            "image/png": "[encoded data removed]",
            "text/plain": [
              "<Figure size 720x360 with 1 Axes>"
            ]
          },
          "metadata": {
            "needs_background": "light"
          }
        }
      ]
    },
    {
      "cell_type": "code",
      "metadata": {
        "colab": {
          "base_uri": "https://localhost:8080/",
          "height": 356
        },
        "id": "TGjcxLQhq0vM",
        "outputId": "8e37c042-c045-436d-b6ca-a6fe488fcb54"
      },
      "source": [
        "#Comparing the overall review sentiment negativity to the recommendation\n",
        "plt.figure(figsize=(10,5))\n",
        "sns.countplot(x = 'recommended', data = overall_negative , palette = \"Reds\")"
      ],
      "execution_count": 56,
      "outputs": [
        {
          "output_type": "execute_result",
          "data": {
            "text/plain": [
              "<matplotlib.axes._subplots.AxesSubplot at 0x7f3db8718dd0>"
            ]
          },
          "metadata": {},
          "execution_count": 56
        },
        {
          "output_type": "display_data",
          "data": {
            "image/png": "[encoded data removed]",
            "text/plain": [
              "<Figure size 720x360 with 1 Axes>"
            ]
          },
          "metadata": {
            "needs_background": "light"
          }
        }
      ]
    },
    {
      "cell_type": "code",
      "metadata": {
        "colab": {
          "base_uri": "https://localhost:8080/",
          "height": 356
        },
        "id": "d-0N8l-pq7f9",
        "outputId": "1cf8ac30-2e9e-4d34-e734-0fcd0555c890"
      },
      "source": [
        "#Comparing the overall review sentiment neutrality to the recommendation\n",
        "plt.figure(figsize=(10,5))\n",
        "sns.countplot(x = 'recommended', data = overall_neutral , palette = \"Greens\")"
      ],
      "execution_count": 57,
      "outputs": [
        {
          "output_type": "execute_result",
          "data": {
            "text/plain": [
              "<matplotlib.axes._subplots.AxesSubplot at 0x7f3dc3205250>"
            ]
          },
          "metadata": {},
          "execution_count": 57
        },
        {
          "output_type": "display_data",
          "data": {
            "image/png": "[encoded data removed]",
            "text/plain": [
              "<Figure size 720x360 with 1 Axes>"
            ]
          },
          "metadata": {
            "needs_background": "light"
          }
        }
      ]
    }
  ]
}