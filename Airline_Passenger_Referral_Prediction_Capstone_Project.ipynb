{
  "nbformat": 4,
  "nbformat_minor": 0,
  "metadata": {
    "colab": {
      "name": "Airline Passenger Referral Prediction - Capstone Project.ipynb",
      "provenance": [],
      "collapsed_sections": [
        "Y4wzpyqABzi7"
      ],
      "include_colab_link": true
    },
    "kernelspec": {
      "display_name": "Python 3",
      "language": "python",
      "name": "python3"
    },
    "language_info": {
      "codemirror_mode": {
        "name": "ipython",
        "version": 3
      },
      "file_extension": ".py",
      "mimetype": "text/x-python",
      "name": "python",
      "nbconvert_exporter": "python",
      "pygments_lexer": "ipython3",
      "version": "3.6.6"
    }
  },
  "cells": [
    {
      "cell_type": "markdown",
      "metadata": {
        "id": "view-in-github",
        "colab_type": "text"
      },
      "source": [
        "<a href=\"https://colab.research.google.com/github/NayanaPradeep/Airline-Passenger-Referral-Prediction/blob/main/Airline_Passenger_Referral_Prediction_Capstone_Project.ipynb\" target=\"_parent\"><img src=\"https://colab.research.google.com/assets/colab-badge.svg\" alt=\"Open In Colab\"/></a>"
      ]
    },
    {
      "cell_type": "markdown",
      "metadata": {
        "id": "Y4wzpyqABzi7"
      },
      "source": [
        "# **PROBLEM**"
      ]
    },
    {
      "cell_type": "markdown",
      "metadata": {
        "id": "4qmJThdkCinZ"
      },
      "source": [
        "Data includes airline reviews from 2006 to 2019 for popular airlines around the world with\n",
        "multiple choice and free text questions. Data is scraped in Spring 2019. The main objective\n",
        "is to predict whether passengers will refer the airline to their friends."
      ]
    },
    {
      "cell_type": "markdown",
      "metadata": {
        "id": "hkLz526rCu-s"
      },
      "source": [
        "Feature descriptions briefly as follows:\n",
        "\n",
        "*   airline: Name of the airline\n",
        "*   overall: Overall point is given to the trip between 1 to 10.\n",
        "*   author: Author of the trip\n",
        "*   reviewdate: Date of the Review customer review: Review of the customers in  free text format \n",
        "*   aircraft: Type of the aircraft\n",
        "*   travellertype: Type of traveler (e.g. business, leisure)\n",
        "*   cabin: Cabin at the flight date flown: Flight date\n",
        "*   seatcomfort: Rated between 1-5\n",
        "*   cabin service: Rated between 1-5\n",
        "*   foodbev: Rated between 1-5 entertainment: Rated between 1-5\n",
        "*   groundservice: Rated between 1-5\n",
        "*   valueformoney: Rated between 1-5\n",
        "*   recommended: Binary, target variable\n"
      ]
    },
    {
      "cell_type": "markdown",
      "metadata": {
        "id": "Jm3sAmulEhjj"
      },
      "source": [
        "# **SOLUTION**"
      ]
    },
    {
      "cell_type": "code",
      "metadata": {
        "id": "B9RBvvuQFk4b"
      },
      "source": [
        "#Import the necessary libraries\n",
        "\n",
        "import pandas as pd\n",
        "import warnings \n",
        "warnings.filterwarnings('ignore')\n",
        "\n",
        "import numpy as np\n",
        "import pandas as pd\n",
        "import matplotlib.pyplot as plt\n",
        "import seaborn as sns\n",
        "sns.set()\n",
        "%matplotlib inline\n",
        "\n",
        "from sklearn.linear_model import LogisticRegression\n",
        "from sklearn import metrics\n",
        "from sklearn.preprocessing import scale\n",
        "from sklearn.model_selection import train_test_split\n",
        "from sklearn.metrics import classification_report\n",
        "from sklearn.metrics import confusion_matrix\n",
        "from sklearn.metrics import accuracy_score\n",
        "\n",
        "from scipy.stats import zscore\n",
        "from sklearn.feature_extraction.text import CountVectorizer\n",
        "from sklearn.naive_bayes import GaussianNB\n",
        "from sklearn.neighbors import KNeighborsClassifier\n",
        "from sklearn import model_selection"
      ],
      "execution_count": null,
      "outputs": []
    },
    {
      "cell_type": "code",
      "metadata": {
        "colab": {
          "base_uri": "https://localhost:8080/"
        },
        "id": "-1GTBjKlJGIR",
        "outputId": "88090dbd-2bbb-496d-ef1a-8b78c0536b67"
      },
      "source": [
        "#Mount the drive to load the dataset \n",
        "from google.colab import drive\n",
        "\n",
        "drive.mount('/content/drive')"
      ],
      "execution_count": null,
      "outputs": [
        {
          "output_type": "stream",
          "name": "stdout",
          "text": [
            "Mounted at /content/drive\n"
          ]
        }
      ]
    },
    {
      "cell_type": "code",
      "metadata": {
        "id": "ZQ0XbpnTJdCv"
      },
      "source": [
        "#Read the file\n",
        "file_path = '/content/drive/MyDrive/Colab Notebooks/Airline Passenger Referral Prediction - Nayana Pradeep/data_airline_reviews.xlsx'\n",
        "airline_df=pd.read_excel(file_path)"
      ],
      "execution_count": null,
      "outputs": []
    },
    {
      "cell_type": "code",
      "metadata": {
        "colab": {
          "base_uri": "https://localhost:8080/",
          "height": 549
        },
        "id": "4FRRUwX8JSIY",
        "outputId": "3e405da9-321c-4508-8993-51d94a58848c"
      },
      "source": [
        "#Top 10 rows of the dataset\n",
        "airline_df.head(10)"
      ],
      "execution_count": null,
      "outputs": [
        {
          "output_type": "execute_result",
          "data": {
            "text/html": [
              "<div>\n",
              "<style scoped>\n",
              "    .dataframe tbody tr th:only-of-type {\n",
              "        vertical-align: middle;\n",
              "    }\n",
              "\n",
              "    .dataframe tbody tr th {\n",
              "        vertical-align: top;\n",
              "    }\n",
              "\n",
              "    .dataframe thead th {\n",
              "        text-align: right;\n",
              "    }\n",
              "</style>\n",
              "<table border=\"1\" class=\"dataframe\">\n",
              "  <thead>\n",
              "    <tr style=\"text-align: right;\">\n",
              "      <th></th>\n",
              "      <th>airline</th>\n",
              "      <th>overall</th>\n",
              "      <th>author</th>\n",
              "      <th>review_date</th>\n",
              "      <th>customer_review</th>\n",
              "      <th>aircraft</th>\n",
              "      <th>traveller_type</th>\n",
              "      <th>cabin</th>\n",
              "      <th>route</th>\n",
              "      <th>date_flown</th>\n",
              "      <th>seat_comfort</th>\n",
              "      <th>cabin_service</th>\n",
              "      <th>food_bev</th>\n",
              "      <th>entertainment</th>\n",
              "      <th>ground_service</th>\n",
              "      <th>value_for_money</th>\n",
              "      <th>recommended</th>\n",
              "    </tr>\n",
              "  </thead>\n",
              "  <tbody>\n",
              "    <tr>\n",
              "      <th>0</th>\n",
              "      <td>NaN</td>\n",
              "      <td>NaN</td>\n",
              "      <td>NaN</td>\n",
              "      <td>NaN</td>\n",
              "      <td>NaN</td>\n",
              "      <td>NaN</td>\n",
              "      <td>NaN</td>\n",
              "      <td>NaN</td>\n",
              "      <td>NaN</td>\n",
              "      <td>NaN</td>\n",
              "      <td>NaN</td>\n",
              "      <td>NaN</td>\n",
              "      <td>NaN</td>\n",
              "      <td>NaN</td>\n",
              "      <td>NaN</td>\n",
              "      <td>NaN</td>\n",
              "      <td>NaN</td>\n",
              "    </tr>\n",
              "    <tr>\n",
              "      <th>1</th>\n",
              "      <td>Turkish Airlines</td>\n",
              "      <td>7.0</td>\n",
              "      <td>Christopher Hackley</td>\n",
              "      <td>8th May 2019</td>\n",
              "      <td>âœ… Trip Verified | London to Izmir via Istanb...</td>\n",
              "      <td>NaN</td>\n",
              "      <td>Business</td>\n",
              "      <td>Economy Class</td>\n",
              "      <td>London to Izmir via Istanbul</td>\n",
              "      <td>2019-05-01 00:00:00</td>\n",
              "      <td>4.0</td>\n",
              "      <td>5.0</td>\n",
              "      <td>4.0</td>\n",
              "      <td>4.0</td>\n",
              "      <td>2.0</td>\n",
              "      <td>4.0</td>\n",
              "      <td>yes</td>\n",
              "    </tr>\n",
              "    <tr>\n",
              "      <th>2</th>\n",
              "      <td>NaN</td>\n",
              "      <td>NaN</td>\n",
              "      <td>NaN</td>\n",
              "      <td>NaN</td>\n",
              "      <td>NaN</td>\n",
              "      <td>NaN</td>\n",
              "      <td>NaN</td>\n",
              "      <td>NaN</td>\n",
              "      <td>NaN</td>\n",
              "      <td>NaN</td>\n",
              "      <td>NaN</td>\n",
              "      <td>NaN</td>\n",
              "      <td>NaN</td>\n",
              "      <td>NaN</td>\n",
              "      <td>NaN</td>\n",
              "      <td>NaN</td>\n",
              "      <td>NaN</td>\n",
              "    </tr>\n",
              "    <tr>\n",
              "      <th>3</th>\n",
              "      <td>Turkish Airlines</td>\n",
              "      <td>2.0</td>\n",
              "      <td>Adriana Pisoi</td>\n",
              "      <td>7th May 2019</td>\n",
              "      <td>âœ… Trip Verified | Istanbul to Bucharest. We ...</td>\n",
              "      <td>NaN</td>\n",
              "      <td>Family Leisure</td>\n",
              "      <td>Economy Class</td>\n",
              "      <td>Istanbul to Bucharest</td>\n",
              "      <td>2019-05-01 00:00:00</td>\n",
              "      <td>4.0</td>\n",
              "      <td>1.0</td>\n",
              "      <td>1.0</td>\n",
              "      <td>1.0</td>\n",
              "      <td>1.0</td>\n",
              "      <td>1.0</td>\n",
              "      <td>no</td>\n",
              "    </tr>\n",
              "    <tr>\n",
              "      <th>4</th>\n",
              "      <td>NaN</td>\n",
              "      <td>NaN</td>\n",
              "      <td>NaN</td>\n",
              "      <td>NaN</td>\n",
              "      <td>NaN</td>\n",
              "      <td>NaN</td>\n",
              "      <td>NaN</td>\n",
              "      <td>NaN</td>\n",
              "      <td>NaN</td>\n",
              "      <td>NaN</td>\n",
              "      <td>NaN</td>\n",
              "      <td>NaN</td>\n",
              "      <td>NaN</td>\n",
              "      <td>NaN</td>\n",
              "      <td>NaN</td>\n",
              "      <td>NaN</td>\n",
              "      <td>NaN</td>\n",
              "    </tr>\n",
              "    <tr>\n",
              "      <th>5</th>\n",
              "      <td>Turkish Airlines</td>\n",
              "      <td>3.0</td>\n",
              "      <td>M Galerko</td>\n",
              "      <td>7th May 2019</td>\n",
              "      <td>âœ… Trip Verified | Rome to Prishtina via Ista...</td>\n",
              "      <td>NaN</td>\n",
              "      <td>Business</td>\n",
              "      <td>Economy Class</td>\n",
              "      <td>Rome to Prishtina via Istanbul</td>\n",
              "      <td>2019-05-01 00:00:00</td>\n",
              "      <td>1.0</td>\n",
              "      <td>4.0</td>\n",
              "      <td>1.0</td>\n",
              "      <td>3.0</td>\n",
              "      <td>1.0</td>\n",
              "      <td>2.0</td>\n",
              "      <td>no</td>\n",
              "    </tr>\n",
              "    <tr>\n",
              "      <th>6</th>\n",
              "      <td>NaN</td>\n",
              "      <td>NaN</td>\n",
              "      <td>NaN</td>\n",
              "      <td>NaN</td>\n",
              "      <td>NaN</td>\n",
              "      <td>NaN</td>\n",
              "      <td>NaN</td>\n",
              "      <td>NaN</td>\n",
              "      <td>NaN</td>\n",
              "      <td>NaN</td>\n",
              "      <td>NaN</td>\n",
              "      <td>NaN</td>\n",
              "      <td>NaN</td>\n",
              "      <td>NaN</td>\n",
              "      <td>NaN</td>\n",
              "      <td>NaN</td>\n",
              "      <td>NaN</td>\n",
              "    </tr>\n",
              "    <tr>\n",
              "      <th>7</th>\n",
              "      <td>Turkish Airlines</td>\n",
              "      <td>10.0</td>\n",
              "      <td>Zeshan Shah</td>\n",
              "      <td>6th May 2019</td>\n",
              "      <td>âœ… Trip Verified | Flew on Turkish Airlines I...</td>\n",
              "      <td>A330</td>\n",
              "      <td>Solo Leisure</td>\n",
              "      <td>Economy Class</td>\n",
              "      <td>Washington Dulles to Karachi</td>\n",
              "      <td>April 2019</td>\n",
              "      <td>4.0</td>\n",
              "      <td>5.0</td>\n",
              "      <td>5.0</td>\n",
              "      <td>5.0</td>\n",
              "      <td>5.0</td>\n",
              "      <td>5.0</td>\n",
              "      <td>yes</td>\n",
              "    </tr>\n",
              "    <tr>\n",
              "      <th>8</th>\n",
              "      <td>NaN</td>\n",
              "      <td>NaN</td>\n",
              "      <td>NaN</td>\n",
              "      <td>NaN</td>\n",
              "      <td>NaN</td>\n",
              "      <td>NaN</td>\n",
              "      <td>NaN</td>\n",
              "      <td>NaN</td>\n",
              "      <td>NaN</td>\n",
              "      <td>NaN</td>\n",
              "      <td>NaN</td>\n",
              "      <td>NaN</td>\n",
              "      <td>NaN</td>\n",
              "      <td>NaN</td>\n",
              "      <td>NaN</td>\n",
              "      <td>NaN</td>\n",
              "      <td>NaN</td>\n",
              "    </tr>\n",
              "    <tr>\n",
              "      <th>9</th>\n",
              "      <td>Turkish Airlines</td>\n",
              "      <td>1.0</td>\n",
              "      <td>Pooja Jain</td>\n",
              "      <td>6th May 2019</td>\n",
              "      <td>âœ… Trip Verified | Mumbai to Dublin via Istan...</td>\n",
              "      <td>NaN</td>\n",
              "      <td>Solo Leisure</td>\n",
              "      <td>Economy Class</td>\n",
              "      <td>Mumbai to Dublin via Istanbul</td>\n",
              "      <td>2019-05-01 00:00:00</td>\n",
              "      <td>1.0</td>\n",
              "      <td>1.0</td>\n",
              "      <td>1.0</td>\n",
              "      <td>1.0</td>\n",
              "      <td>1.0</td>\n",
              "      <td>1.0</td>\n",
              "      <td>no</td>\n",
              "    </tr>\n",
              "  </tbody>\n",
              "</table>\n",
              "</div>"
            ],
            "text/plain": [
              "            airline  overall  ... value_for_money recommended\n",
              "0               NaN      NaN  ...             NaN         NaN\n",
              "1  Turkish Airlines      7.0  ...             4.0         yes\n",
              "2               NaN      NaN  ...             NaN         NaN\n",
              "3  Turkish Airlines      2.0  ...             1.0          no\n",
              "4               NaN      NaN  ...             NaN         NaN\n",
              "5  Turkish Airlines      3.0  ...             2.0          no\n",
              "6               NaN      NaN  ...             NaN         NaN\n",
              "7  Turkish Airlines     10.0  ...             5.0         yes\n",
              "8               NaN      NaN  ...             NaN         NaN\n",
              "9  Turkish Airlines      1.0  ...             1.0          no\n",
              "\n",
              "[10 rows x 17 columns]"
            ]
          },
          "metadata": {},
          "execution_count": 4
        }
      ]
    },
    {
      "cell_type": "code",
      "metadata": {
        "colab": {
          "base_uri": "https://localhost:8080/",
          "height": 343
        },
        "id": "1GdHiA-8KNQd",
        "outputId": "b905d2ad-7dcf-4f4a-febe-da204cebfbb9"
      },
      "source": [
        "#Last 5 rows of the dataset\n",
        "airline_df.tail()"
      ],
      "execution_count": null,
      "outputs": [
        {
          "output_type": "execute_result",
          "data": {
            "text/html": [
              "<div>\n",
              "<style scoped>\n",
              "    .dataframe tbody tr th:only-of-type {\n",
              "        vertical-align: middle;\n",
              "    }\n",
              "\n",
              "    .dataframe tbody tr th {\n",
              "        vertical-align: top;\n",
              "    }\n",
              "\n",
              "    .dataframe thead th {\n",
              "        text-align: right;\n",
              "    }\n",
              "</style>\n",
              "<table border=\"1\" class=\"dataframe\">\n",
              "  <thead>\n",
              "    <tr style=\"text-align: right;\">\n",
              "      <th></th>\n",
              "      <th>airline</th>\n",
              "      <th>overall</th>\n",
              "      <th>author</th>\n",
              "      <th>review_date</th>\n",
              "      <th>customer_review</th>\n",
              "      <th>aircraft</th>\n",
              "      <th>traveller_type</th>\n",
              "      <th>cabin</th>\n",
              "      <th>route</th>\n",
              "      <th>date_flown</th>\n",
              "      <th>seat_comfort</th>\n",
              "      <th>cabin_service</th>\n",
              "      <th>food_bev</th>\n",
              "      <th>entertainment</th>\n",
              "      <th>ground_service</th>\n",
              "      <th>value_for_money</th>\n",
              "      <th>recommended</th>\n",
              "    </tr>\n",
              "  </thead>\n",
              "  <tbody>\n",
              "    <tr>\n",
              "      <th>131890</th>\n",
              "      <td>Ukraine International</td>\n",
              "      <td>NaN</td>\n",
              "      <td>Andriy Yesypenko</td>\n",
              "      <td>19th May 2006</td>\n",
              "      <td>Kiev - London (Gatwick) in business class (in ...</td>\n",
              "      <td>NaN</td>\n",
              "      <td>NaN</td>\n",
              "      <td>NaN</td>\n",
              "      <td>NaN</td>\n",
              "      <td>NaN</td>\n",
              "      <td>NaN</td>\n",
              "      <td>NaN</td>\n",
              "      <td>NaN</td>\n",
              "      <td>NaN</td>\n",
              "      <td>NaN</td>\n",
              "      <td>NaN</td>\n",
              "      <td>no</td>\n",
              "    </tr>\n",
              "    <tr>\n",
              "      <th>131891</th>\n",
              "      <td>NaN</td>\n",
              "      <td>NaN</td>\n",
              "      <td>NaN</td>\n",
              "      <td>NaN</td>\n",
              "      <td>NaN</td>\n",
              "      <td>NaN</td>\n",
              "      <td>NaN</td>\n",
              "      <td>NaN</td>\n",
              "      <td>NaN</td>\n",
              "      <td>NaN</td>\n",
              "      <td>NaN</td>\n",
              "      <td>NaN</td>\n",
              "      <td>NaN</td>\n",
              "      <td>NaN</td>\n",
              "      <td>NaN</td>\n",
              "      <td>NaN</td>\n",
              "      <td>NaN</td>\n",
              "    </tr>\n",
              "    <tr>\n",
              "      <th>131892</th>\n",
              "      <td>Ukraine International</td>\n",
              "      <td>NaN</td>\n",
              "      <td>Volodya Bilotkach</td>\n",
              "      <td>29th April 2006</td>\n",
              "      <td>Several flights - KBP to AMS (3 times one way)...</td>\n",
              "      <td>NaN</td>\n",
              "      <td>NaN</td>\n",
              "      <td>NaN</td>\n",
              "      <td>NaN</td>\n",
              "      <td>NaN</td>\n",
              "      <td>NaN</td>\n",
              "      <td>NaN</td>\n",
              "      <td>NaN</td>\n",
              "      <td>NaN</td>\n",
              "      <td>NaN</td>\n",
              "      <td>NaN</td>\n",
              "      <td>no</td>\n",
              "    </tr>\n",
              "    <tr>\n",
              "      <th>131893</th>\n",
              "      <td>NaN</td>\n",
              "      <td>NaN</td>\n",
              "      <td>NaN</td>\n",
              "      <td>NaN</td>\n",
              "      <td>NaN</td>\n",
              "      <td>NaN</td>\n",
              "      <td>NaN</td>\n",
              "      <td>NaN</td>\n",
              "      <td>NaN</td>\n",
              "      <td>NaN</td>\n",
              "      <td>NaN</td>\n",
              "      <td>NaN</td>\n",
              "      <td>NaN</td>\n",
              "      <td>NaN</td>\n",
              "      <td>NaN</td>\n",
              "      <td>NaN</td>\n",
              "      <td>NaN</td>\n",
              "    </tr>\n",
              "    <tr>\n",
              "      <th>131894</th>\n",
              "      <td>Ukraine International</td>\n",
              "      <td>NaN</td>\n",
              "      <td>Kasper Hettinga</td>\n",
              "      <td>10th February 2006</td>\n",
              "      <td>KBP-AMS with UIA. Although it was a relatively...</td>\n",
              "      <td>NaN</td>\n",
              "      <td>NaN</td>\n",
              "      <td>NaN</td>\n",
              "      <td>NaN</td>\n",
              "      <td>NaN</td>\n",
              "      <td>NaN</td>\n",
              "      <td>NaN</td>\n",
              "      <td>NaN</td>\n",
              "      <td>NaN</td>\n",
              "      <td>NaN</td>\n",
              "      <td>NaN</td>\n",
              "      <td>no</td>\n",
              "    </tr>\n",
              "  </tbody>\n",
              "</table>\n",
              "</div>"
            ],
            "text/plain": [
              "                      airline  overall  ... value_for_money recommended\n",
              "131890  Ukraine International      NaN  ...             NaN          no\n",
              "131891                    NaN      NaN  ...             NaN         NaN\n",
              "131892  Ukraine International      NaN  ...             NaN          no\n",
              "131893                    NaN      NaN  ...             NaN         NaN\n",
              "131894  Ukraine International      NaN  ...             NaN          no\n",
              "\n",
              "[5 rows x 17 columns]"
            ]
          },
          "metadata": {},
          "execution_count": 5
        }
      ]
    },
    {
      "cell_type": "code",
      "metadata": {
        "colab": {
          "base_uri": "https://localhost:8080/"
        },
        "id": "q8pzekV9KRyT",
        "outputId": "3ad6e4b6-33f6-4bee-fa15-62f629a0d361"
      },
      "source": [
        "#Column names of the dataset\n",
        "airline_df.columns"
      ],
      "execution_count": null,
      "outputs": [
        {
          "output_type": "execute_result",
          "data": {
            "text/plain": [
              "Index(['airline', 'overall', 'author', 'review_date', 'customer_review',\n",
              "       'aircraft', 'traveller_type', 'cabin', 'route', 'date_flown',\n",
              "       'seat_comfort', 'cabin_service', 'food_bev', 'entertainment',\n",
              "       'ground_service', 'value_for_money', 'recommended'],\n",
              "      dtype='object')"
            ]
          },
          "metadata": {},
          "execution_count": 6
        }
      ]
    },
    {
      "cell_type": "code",
      "metadata": {
        "colab": {
          "base_uri": "https://localhost:8080/"
        },
        "id": "ks4zz-vBKWL7",
        "outputId": "bdc7bf87-7274-435e-a321-e0004164e8b9"
      },
      "source": [
        "#Number of rows and column\n",
        "airline_df.shape"
      ],
      "execution_count": null,
      "outputs": [
        {
          "output_type": "execute_result",
          "data": {
            "text/plain": [
              "(131895, 17)"
            ]
          },
          "metadata": {},
          "execution_count": 7
        }
      ]
    },
    {
      "cell_type": "code",
      "metadata": {
        "colab": {
          "base_uri": "https://localhost:8080/"
        },
        "id": "cOeDT93_KfTT",
        "outputId": "13efd342-0b25-4ac1-9783-0f68dd4e696c"
      },
      "source": [
        "#Checking the unique values of the  recommended column(target variable)\n",
        "airline_df.recommended.unique()"
      ],
      "execution_count": null,
      "outputs": [
        {
          "output_type": "execute_result",
          "data": {
            "text/plain": [
              "array([nan, 'yes', 'no'], dtype=object)"
            ]
          },
          "metadata": {},
          "execution_count": 8
        }
      ]
    },
    {
      "cell_type": "code",
      "metadata": {
        "colab": {
          "base_uri": "https://localhost:8080/"
        },
        "id": "4Yib1zInKpQG",
        "outputId": "efdeb65f-80d7-4005-d40f-197bf8edb0c5"
      },
      "source": [
        "#Checking the types of travellers who submitted the review\n",
        "airline_df.traveller_type.unique()"
      ],
      "execution_count": null,
      "outputs": [
        {
          "output_type": "execute_result",
          "data": {
            "text/plain": [
              "array([nan, 'Business', 'Family Leisure', 'Solo Leisure',\n",
              "       'Couple Leisure'], dtype=object)"
            ]
          },
          "metadata": {},
          "execution_count": 9
        }
      ]
    },
    {
      "cell_type": "markdown",
      "metadata": {
        "id": "oGMu-19KscOg"
      },
      "source": [
        "From the last 5 rows, we can conclude that the dataset contains null values. Lets check the number of null values present for each of the columns. "
      ]
    },
    {
      "cell_type": "code",
      "metadata": {
        "colab": {
          "base_uri": "https://localhost:8080/"
        },
        "id": "3AzTUftUSQHq",
        "outputId": "c027e3b9-08bc-4f09-9f8a-6f6c6a3b047b"
      },
      "source": [
        "#Checking the null value count for each column\n",
        "airline_df.isnull().sum()"
      ],
      "execution_count": null,
      "outputs": [
        {
          "output_type": "execute_result",
          "data": {
            "text/plain": [
              "airline             65948\n",
              "overall             67878\n",
              "author              65948\n",
              "review_date         65948\n",
              "customer_review     65948\n",
              "aircraft           112177\n",
              "traveller_type      92140\n",
              "cabin               68592\n",
              "route               92169\n",
              "date_flown          92262\n",
              "seat_comfort        71214\n",
              "cabin_service       71180\n",
              "food_bev            79287\n",
              "entertainment       87702\n",
              "ground_service      92537\n",
              "value_for_money     67920\n",
              "recommended         67455\n",
              "dtype: int64"
            ]
          },
          "metadata": {},
          "execution_count": 10
        }
      ]
    },
    {
      "cell_type": "code",
      "metadata": {
        "colab": {
          "base_uri": "https://localhost:8080/",
          "height": 576
        },
        "id": "EY4J16_ASUi3",
        "outputId": "ed9a4306-7f7b-4ca5-bfd9-58e1590eb7c1"
      },
      "source": [
        "#Checking the percentage of null value for each column\n",
        "percent_missing = airline_df.isnull().sum() * 100 / len(airline_df)\n",
        "missing_values_df = pd.DataFrame({'column_name': airline_df.columns,'percent_missing': percent_missing})\n",
        "missing_values_df.sort_values('percent_missing',ascending=False)"
      ],
      "execution_count": null,
      "outputs": [
        {
          "output_type": "execute_result",
          "data": {
            "text/html": [
              "<div>\n",
              "<style scoped>\n",
              "    .dataframe tbody tr th:only-of-type {\n",
              "        vertical-align: middle;\n",
              "    }\n",
              "\n",
              "    .dataframe tbody tr th {\n",
              "        vertical-align: top;\n",
              "    }\n",
              "\n",
              "    .dataframe thead th {\n",
              "        text-align: right;\n",
              "    }\n",
              "</style>\n",
              "<table border=\"1\" class=\"dataframe\">\n",
              "  <thead>\n",
              "    <tr style=\"text-align: right;\">\n",
              "      <th></th>\n",
              "      <th>column_name</th>\n",
              "      <th>percent_missing</th>\n",
              "    </tr>\n",
              "  </thead>\n",
              "  <tbody>\n",
              "    <tr>\n",
              "      <th>aircraft</th>\n",
              "      <td>aircraft</td>\n",
              "      <td>85.050229</td>\n",
              "    </tr>\n",
              "    <tr>\n",
              "      <th>ground_service</th>\n",
              "      <td>ground_service</td>\n",
              "      <td>70.159597</td>\n",
              "    </tr>\n",
              "    <tr>\n",
              "      <th>date_flown</th>\n",
              "      <td>date_flown</td>\n",
              "      <td>69.951097</td>\n",
              "    </tr>\n",
              "    <tr>\n",
              "      <th>route</th>\n",
              "      <td>route</td>\n",
              "      <td>69.880587</td>\n",
              "    </tr>\n",
              "    <tr>\n",
              "      <th>traveller_type</th>\n",
              "      <td>traveller_type</td>\n",
              "      <td>69.858600</td>\n",
              "    </tr>\n",
              "    <tr>\n",
              "      <th>entertainment</th>\n",
              "      <td>entertainment</td>\n",
              "      <td>66.493802</td>\n",
              "    </tr>\n",
              "    <tr>\n",
              "      <th>food_bev</th>\n",
              "      <td>food_bev</td>\n",
              "      <td>60.113727</td>\n",
              "    </tr>\n",
              "    <tr>\n",
              "      <th>seat_comfort</th>\n",
              "      <td>seat_comfort</td>\n",
              "      <td>53.992949</td>\n",
              "    </tr>\n",
              "    <tr>\n",
              "      <th>cabin_service</th>\n",
              "      <td>cabin_service</td>\n",
              "      <td>53.967171</td>\n",
              "    </tr>\n",
              "    <tr>\n",
              "      <th>cabin</th>\n",
              "      <td>cabin</td>\n",
              "      <td>52.005004</td>\n",
              "    </tr>\n",
              "    <tr>\n",
              "      <th>value_for_money</th>\n",
              "      <td>value_for_money</td>\n",
              "      <td>51.495508</td>\n",
              "    </tr>\n",
              "    <tr>\n",
              "      <th>overall</th>\n",
              "      <td>overall</td>\n",
              "      <td>51.463664</td>\n",
              "    </tr>\n",
              "    <tr>\n",
              "      <th>recommended</th>\n",
              "      <td>recommended</td>\n",
              "      <td>51.142955</td>\n",
              "    </tr>\n",
              "    <tr>\n",
              "      <th>customer_review</th>\n",
              "      <td>customer_review</td>\n",
              "      <td>50.000379</td>\n",
              "    </tr>\n",
              "    <tr>\n",
              "      <th>review_date</th>\n",
              "      <td>review_date</td>\n",
              "      <td>50.000379</td>\n",
              "    </tr>\n",
              "    <tr>\n",
              "      <th>author</th>\n",
              "      <td>author</td>\n",
              "      <td>50.000379</td>\n",
              "    </tr>\n",
              "    <tr>\n",
              "      <th>airline</th>\n",
              "      <td>airline</td>\n",
              "      <td>50.000379</td>\n",
              "    </tr>\n",
              "  </tbody>\n",
              "</table>\n",
              "</div>"
            ],
            "text/plain": [
              "                     column_name  percent_missing\n",
              "aircraft                aircraft        85.050229\n",
              "ground_service    ground_service        70.159597\n",
              "date_flown            date_flown        69.951097\n",
              "route                      route        69.880587\n",
              "traveller_type    traveller_type        69.858600\n",
              "entertainment      entertainment        66.493802\n",
              "food_bev                food_bev        60.113727\n",
              "seat_comfort        seat_comfort        53.992949\n",
              "cabin_service      cabin_service        53.967171\n",
              "cabin                      cabin        52.005004\n",
              "value_for_money  value_for_money        51.495508\n",
              "overall                  overall        51.463664\n",
              "recommended          recommended        51.142955\n",
              "customer_review  customer_review        50.000379\n",
              "review_date          review_date        50.000379\n",
              "author                    author        50.000379\n",
              "airline                  airline        50.000379"
            ]
          },
          "metadata": {},
          "execution_count": 144
        }
      ]
    },
    {
      "cell_type": "markdown",
      "metadata": {
        "id": "Qx06RCdstGFY"
      },
      "source": [
        "From the above analysis, it is clear that our dataset contains lot of null values. Since 'recommended' is the target variable here, lets concentrate the null value count of 'recommended' first.\n",
        "\n",
        "Let's check the subset of the dataset which has null values for 'recommended'"
      ]
    },
    {
      "cell_type": "code",
      "metadata": {
        "id": "UolEld_n0mim"
      },
      "source": [
        "#Creating a copy before the data preparation and analysis\n",
        "airline_df_copy =airline_df.copy()"
      ],
      "execution_count": null,
      "outputs": []
    },
    {
      "cell_type": "code",
      "metadata": {
        "id": "QM-uZ-qFWHNh"
      },
      "source": [
        "#new dataset with rows where recommended is null\n",
        "recommended_null = airline_df[airline_df['recommended'].isnull()]"
      ],
      "execution_count": null,
      "outputs": []
    },
    {
      "cell_type": "code",
      "metadata": {
        "colab": {
          "base_uri": "https://localhost:8080/"
        },
        "id": "XF2jJ4JAV0dH",
        "outputId": "987ee0a3-5533-4a09-a210-d886e2698f2c"
      },
      "source": [
        "#checking the null count for this particular subset\n",
        "recommended_null.isnull().sum()"
      ],
      "execution_count": null,
      "outputs": [
        {
          "output_type": "execute_result",
          "data": {
            "text/plain": [
              "airline            65948\n",
              "overall            65968\n",
              "author             65948\n",
              "review_date        65948\n",
              "customer_review    65948\n",
              "aircraft           67454\n",
              "traveller_type     67454\n",
              "cabin              67454\n",
              "route              67454\n",
              "date_flown         67455\n",
              "seat_comfort       67455\n",
              "cabin_service      67455\n",
              "food_bev           67455\n",
              "entertainment      67455\n",
              "ground_service     67455\n",
              "value_for_money    67455\n",
              "recommended        67455\n",
              "dtype: int64"
            ]
          },
          "metadata": {},
          "execution_count": 25
        }
      ]
    },
    {
      "cell_type": "markdown",
      "metadata": {
        "id": "W5j7gGVMt7LV"
      },
      "source": [
        "Now it's clear that the subset with null values for 'recommended' column comes with approximately same amount of null values for the other columns.\n",
        "\n",
        "This subset of dataset can corrupt the analysis and prediction because it is almost full of null values. So it is safer to remove these columns from the original dataset"
      ]
    },
    {
      "cell_type": "code",
      "metadata": {
        "colab": {
          "base_uri": "https://localhost:8080/"
        },
        "id": "QZ4IfhaQXjSp",
        "outputId": "2c34752a-f24f-45e9-cdd6-dc99ca681674"
      },
      "source": [
        "#Number of rows and columns in this subset dataset\n",
        "recommended_null.shape"
      ],
      "execution_count": null,
      "outputs": [
        {
          "output_type": "execute_result",
          "data": {
            "text/plain": [
              "(67455, 17)"
            ]
          },
          "metadata": {},
          "execution_count": 26
        }
      ]
    },
    {
      "cell_type": "code",
      "metadata": {
        "id": "WElM2sercxc9"
      },
      "source": [
        "#remove the rows where recommended value is null\n",
        "airline_df.drop(airline_df[airline_df['recommended'].isnull()].index, inplace = True)"
      ],
      "execution_count": null,
      "outputs": []
    },
    {
      "cell_type": "code",
      "metadata": {
        "colab": {
          "base_uri": "https://localhost:8080/"
        },
        "id": "S2mgMs9iWw5Z",
        "outputId": "2d7229f7-3962-4b2d-8585-a71c11280a64"
      },
      "source": [
        "#Number of rows and columns of the improved and new dataset\n",
        "airline_df.shape"
      ],
      "execution_count": null,
      "outputs": [
        {
          "output_type": "execute_result",
          "data": {
            "text/plain": [
              "(64440, 17)"
            ]
          },
          "metadata": {},
          "execution_count": 28
        }
      ]
    },
    {
      "cell_type": "code",
      "metadata": {
        "colab": {
          "base_uri": "https://localhost:8080/"
        },
        "id": "VDMvJorl5JOY",
        "outputId": "18aab37e-46e3-4dae-8efe-57a4f8fa4c20"
      },
      "source": [
        "#Checking the number of duplicates in the dataset\n",
        "len(airline_df[airline_df.duplicated( keep='first')])"
      ],
      "execution_count": null,
      "outputs": [
        {
          "output_type": "execute_result",
          "data": {
            "text/plain": [
              "4679"
            ]
          },
          "metadata": {},
          "execution_count": 147
        }
      ]
    },
    {
      "cell_type": "code",
      "metadata": {
        "id": "mnmlLPBL5ZZW"
      },
      "source": [
        "#Removing the duplicates\n",
        "airline_df.drop_duplicates(keep='first', inplace = True)"
      ],
      "execution_count": null,
      "outputs": []
    },
    {
      "cell_type": "code",
      "metadata": {
        "colab": {
          "base_uri": "https://localhost:8080/"
        },
        "id": "z4209tOX5l0k",
        "outputId": "f061a5ba-c97d-4f5a-ea68-449e608101a7"
      },
      "source": [
        "#confirming that the duplicate rows are deleted\n",
        "len(airline_df[airline_df.duplicated( keep='first')])"
      ],
      "execution_count": null,
      "outputs": [
        {
          "output_type": "execute_result",
          "data": {
            "text/plain": [
              "0"
            ]
          },
          "metadata": {},
          "execution_count": 149
        }
      ]
    },
    {
      "cell_type": "code",
      "metadata": {
        "colab": {
          "base_uri": "https://localhost:8080/"
        },
        "id": "QLVggjJSXq15",
        "outputId": "2dfe7b17-eecd-4dea-cd3c-e4fe8c7b53d2"
      },
      "source": [
        "#Checking the null count of the improved dataset\n",
        "airline_df.isnull().sum()"
      ],
      "execution_count": null,
      "outputs": [
        {
          "output_type": "execute_result",
          "data": {
            "text/plain": [
              "airline                0\n",
              "overall             1764\n",
              "review_date            0\n",
              "customer_review        0\n",
              "aircraft           41274\n",
              "traveller_type     22222\n",
              "cabin               1057\n",
              "route              22249\n",
              "date_flown         22327\n",
              "seat_comfort        3550\n",
              "cabin_service       3521\n",
              "food_bev           11420\n",
              "entertainment      19531\n",
              "ground_service     22592\n",
              "value_for_money      434\n",
              "recommended            0\n",
              "dtype: int64"
            ]
          },
          "metadata": {},
          "execution_count": 55
        }
      ]
    },
    {
      "cell_type": "code",
      "metadata": {
        "colab": {
          "base_uri": "https://localhost:8080/",
          "height": 545
        },
        "id": "7WtC6Bku5u38",
        "outputId": "2c8cf483-e821-4e65-9962-1b71927f6723"
      },
      "source": [
        "#Checking the new null value percentage\n",
        "percent_missing = airline_df.isnull().sum() * 100 / len(airline_df)\n",
        "missing_values_df = pd.DataFrame({'column_name': airline_df.columns,'percent_missing': percent_missing})\n",
        "missing_values_df.sort_values('percent_missing',ascending=False)"
      ],
      "execution_count": null,
      "outputs": [
        {
          "output_type": "execute_result",
          "data": {
            "text/html": [
              "<div>\n",
              "<style scoped>\n",
              "    .dataframe tbody tr th:only-of-type {\n",
              "        vertical-align: middle;\n",
              "    }\n",
              "\n",
              "    .dataframe tbody tr th {\n",
              "        vertical-align: top;\n",
              "    }\n",
              "\n",
              "    .dataframe thead th {\n",
              "        text-align: right;\n",
              "    }\n",
              "</style>\n",
              "<table border=\"1\" class=\"dataframe\">\n",
              "  <thead>\n",
              "    <tr style=\"text-align: right;\">\n",
              "      <th></th>\n",
              "      <th>column_name</th>\n",
              "      <th>percent_missing</th>\n",
              "    </tr>\n",
              "  </thead>\n",
              "  <tbody>\n",
              "    <tr>\n",
              "      <th>aircraft</th>\n",
              "      <td>aircraft</td>\n",
              "      <td>69.065109</td>\n",
              "    </tr>\n",
              "    <tr>\n",
              "      <th>ground_service</th>\n",
              "      <td>ground_service</td>\n",
              "      <td>37.803919</td>\n",
              "    </tr>\n",
              "    <tr>\n",
              "      <th>date_flown</th>\n",
              "      <td>date_flown</td>\n",
              "      <td>37.360486</td>\n",
              "    </tr>\n",
              "    <tr>\n",
              "      <th>route</th>\n",
              "      <td>route</td>\n",
              "      <td>37.229966</td>\n",
              "    </tr>\n",
              "    <tr>\n",
              "      <th>traveller_type</th>\n",
              "      <td>traveller_type</td>\n",
              "      <td>37.184786</td>\n",
              "    </tr>\n",
              "    <tr>\n",
              "      <th>entertainment</th>\n",
              "      <td>entertainment</td>\n",
              "      <td>32.681849</td>\n",
              "    </tr>\n",
              "    <tr>\n",
              "      <th>food_bev</th>\n",
              "      <td>food_bev</td>\n",
              "      <td>19.109453</td>\n",
              "    </tr>\n",
              "    <tr>\n",
              "      <th>seat_comfort</th>\n",
              "      <td>seat_comfort</td>\n",
              "      <td>5.940329</td>\n",
              "    </tr>\n",
              "    <tr>\n",
              "      <th>cabin_service</th>\n",
              "      <td>cabin_service</td>\n",
              "      <td>5.891802</td>\n",
              "    </tr>\n",
              "    <tr>\n",
              "      <th>overall</th>\n",
              "      <td>overall</td>\n",
              "      <td>2.951758</td>\n",
              "    </tr>\n",
              "    <tr>\n",
              "      <th>cabin</th>\n",
              "      <td>cabin</td>\n",
              "      <td>1.768712</td>\n",
              "    </tr>\n",
              "    <tr>\n",
              "      <th>value_for_money</th>\n",
              "      <td>value_for_money</td>\n",
              "      <td>0.726226</td>\n",
              "    </tr>\n",
              "    <tr>\n",
              "      <th>airline</th>\n",
              "      <td>airline</td>\n",
              "      <td>0.000000</td>\n",
              "    </tr>\n",
              "    <tr>\n",
              "      <th>review_date</th>\n",
              "      <td>review_date</td>\n",
              "      <td>0.000000</td>\n",
              "    </tr>\n",
              "    <tr>\n",
              "      <th>customer_review</th>\n",
              "      <td>customer_review</td>\n",
              "      <td>0.000000</td>\n",
              "    </tr>\n",
              "    <tr>\n",
              "      <th>recommended</th>\n",
              "      <td>recommended</td>\n",
              "      <td>0.000000</td>\n",
              "    </tr>\n",
              "  </tbody>\n",
              "</table>\n",
              "</div>"
            ],
            "text/plain": [
              "                     column_name  percent_missing\n",
              "aircraft                aircraft        69.065109\n",
              "ground_service    ground_service        37.803919\n",
              "date_flown            date_flown        37.360486\n",
              "route                      route        37.229966\n",
              "traveller_type    traveller_type        37.184786\n",
              "entertainment      entertainment        32.681849\n",
              "food_bev                food_bev        19.109453\n",
              "seat_comfort        seat_comfort         5.940329\n",
              "cabin_service      cabin_service         5.891802\n",
              "overall                  overall         2.951758\n",
              "cabin                      cabin         1.768712\n",
              "value_for_money  value_for_money         0.726226\n",
              "airline                  airline         0.000000\n",
              "review_date          review_date         0.000000\n",
              "customer_review  customer_review         0.000000\n",
              "recommended          recommended         0.000000"
            ]
          },
          "metadata": {},
          "execution_count": 56
        }
      ]
    },
    {
      "cell_type": "code",
      "metadata": {
        "colab": {
          "base_uri": "https://localhost:8080/"
        },
        "id": "CwHH0Pj1Xz8X",
        "outputId": "4c47cf56-f371-4c88-a1cd-5c32f787f7f8"
      },
      "source": [
        "#checking the number of unique aircrafts\n",
        "airline_df.aircraft.nunique()"
      ],
      "execution_count": null,
      "outputs": [
        {
          "output_type": "execute_result",
          "data": {
            "text/plain": [
              "array([nan, 'A330', 'Boeing 737-800 / A330-300', ...,\n",
              "       'Boeing 737-800 and Embraer 190', 'Boeing 737-400/ 737-800',\n",
              "       'boeing 767'], dtype=object)"
            ]
          },
          "metadata": {},
          "execution_count": 59
        }
      ]
    },
    {
      "cell_type": "code",
      "metadata": {
        "id": "XUoI5PC3fhYx"
      },
      "source": [
        "#airline_df['aircraft'].fillna('Aircraft_Name_NA',inplace = True)"
      ],
      "execution_count": null,
      "outputs": []
    },
    {
      "cell_type": "code",
      "metadata": {
        "colab": {
          "base_uri": "https://localhost:8080/",
          "height": 356
        },
        "id": "OirVNXDogKAb",
        "outputId": "685af04b-52b6-48e4-b723-d12e27538a35"
      },
      "source": [
        "#Visualizing the recommendation count \n",
        "plt.figure(figsize=(10,5))\n",
        "sns.countplot(x = 'recommended', data = airline_df)"
      ],
      "execution_count": null,
      "outputs": [
        {
          "output_type": "execute_result",
          "data": {
            "text/plain": [
              "<matplotlib.axes._subplots.AxesSubplot at 0x7fd7565a5690>"
            ]
          },
          "metadata": {},
          "execution_count": 60
        },
        {
          "output_type": "display_data",
          "data": {
            "image/png": "[encoded data removed]",
            "text/plain": [
              "<Figure size 720x360 with 1 Axes>"
            ]
          },
          "metadata": {
            "needs_background": "light"
          }
        }
      ]
    },
    {
      "cell_type": "code",
      "metadata": {
        "colab": {
          "base_uri": "https://localhost:8080/",
          "height": 356
        },
        "id": "yt-DnvWv2q4T",
        "outputId": "6d3187f0-969c-4998-8277-bc7ce9eaba4b"
      },
      "source": [
        "#Count of each type of travellers\n",
        "plt.figure(figsize=(10,5))\n",
        "sns.countplot(x = 'traveller_type', data = airline_df)"
      ],
      "execution_count": null,
      "outputs": [
        {
          "output_type": "execute_result",
          "data": {
            "text/plain": [
              "<matplotlib.axes._subplots.AxesSubplot at 0x7fd756265090>"
            ]
          },
          "metadata": {},
          "execution_count": 61
        },
        {
          "output_type": "display_data",
          "data": {
            "image/png": "[encoded data removed]",
            "text/plain": [
              "<Figure size 720x360 with 1 Axes>"
            ]
          },
          "metadata": {
            "needs_background": "light"
          }
        }
      ]
    },
    {
      "cell_type": "markdown",
      "metadata": {
        "id": "ANHG8T9awEG1"
      },
      "source": [
        "As author is the name of the reviewer and doesnt contribute anything significant to the prediction, we can drop this column."
      ]
    },
    {
      "cell_type": "code",
      "metadata": {
        "id": "4pLVm7O-29Pt"
      },
      "source": [
        "#Dropping the author column\n",
        "airline_df.drop([\"author\"], axis = 1, inplace = True)"
      ],
      "execution_count": null,
      "outputs": []
    },
    {
      "cell_type": "code",
      "metadata": {
        "colab": {
          "base_uri": "https://localhost:8080/"
        },
        "id": "-1EPt2586DCE",
        "outputId": "d94c8e93-6133-4b1c-a281-e1e6aeec4aec"
      },
      "source": [
        "#Checking the shape of improved dataset\n",
        "airline_df.shape"
      ],
      "execution_count": null,
      "outputs": [
        {
          "output_type": "execute_result",
          "data": {
            "text/plain": [
              "(59761, 16)"
            ]
          },
          "metadata": {},
          "execution_count": 62
        }
      ]
    },
    {
      "cell_type": "code",
      "metadata": {
        "colab": {
          "base_uri": "https://localhost:8080/",
          "height": 137
        },
        "id": "XCJQqz-Zm8nK",
        "outputId": "41f3a91e-1ca4-4d5b-bb77-a374e5806609"
      },
      "source": [
        "#Checking the full text of customer review from the first column to have an understanding of how it looks\n",
        "airline_df.iloc[0,:]['customer_review']"
      ],
      "execution_count": null,
      "outputs": [
        {
          "output_type": "execute_result",
          "data": {
            "application/vnd.google.colaboratory.intrinsic+json": {
              "type": "string"
            },
            "text/plain": [
              "'âœ… Trip Verified | London to Izmir via Istanbul. First time Iâ€™d flown TK. I found them very good in the air, cabin crew, planes, food, all very nice. Not so great on the ground, ground staff, call centre, computer systems. My flight from LHR was delayed so I missed the connection in Istanbul. Most ground staff donâ€™t speak English, and I was given contradictory instructions from those that could speak a little English. I eventually got on a flight to Izmir three hours later, but it wasnâ€™t an easy process, made worse by the vast distances one has to walk between gates in the cavernous new airport. Also, Iâ€™d phoned a TK call centre (based in Ukraine) to pay an extra Â£40 or so each way for extra leg room seats. However, as the departure times kept changing, my seats kept changing, and for the return leg to London from Istanbul I was not given an extra leg room seat. Luckily there was a spare exit row seat and the cabin crew sorted me out. Overall, I think their cabin crew and planes are very good, ground staff and call centre staff need better training and they all need better computer systems and software to work with.'"
            ]
          },
          "metadata": {},
          "execution_count": 46
        }
      ]
    },
    {
      "cell_type": "code",
      "metadata": {
        "colab": {
          "base_uri": "https://localhost:8080/",
          "height": 669
        },
        "id": "ec3_Ew1XfCYi",
        "outputId": "73112023-4eda-41ac-d6c3-5af68c5927b4"
      },
      "source": [
        "#Checking the route column and customer_review column side by side\n",
        "airline_df[['route','customer_review']].head(20)"
      ],
      "execution_count": null,
      "outputs": [
        {
          "output_type": "execute_result",
          "data": {
            "text/html": [
              "<div>\n",
              "<style scoped>\n",
              "    .dataframe tbody tr th:only-of-type {\n",
              "        vertical-align: middle;\n",
              "    }\n",
              "\n",
              "    .dataframe tbody tr th {\n",
              "        vertical-align: top;\n",
              "    }\n",
              "\n",
              "    .dataframe thead th {\n",
              "        text-align: right;\n",
              "    }\n",
              "</style>\n",
              "<table border=\"1\" class=\"dataframe\">\n",
              "  <thead>\n",
              "    <tr style=\"text-align: right;\">\n",
              "      <th></th>\n",
              "      <th>route</th>\n",
              "      <th>customer_review</th>\n",
              "    </tr>\n",
              "  </thead>\n",
              "  <tbody>\n",
              "    <tr>\n",
              "      <th>1</th>\n",
              "      <td>London to Izmir via Istanbul</td>\n",
              "      <td>âœ… Trip Verified | London to Izmir via Istanb...</td>\n",
              "    </tr>\n",
              "    <tr>\n",
              "      <th>3</th>\n",
              "      <td>Istanbul to Bucharest</td>\n",
              "      <td>âœ… Trip Verified | Istanbul to Bucharest. We ...</td>\n",
              "    </tr>\n",
              "    <tr>\n",
              "      <th>5</th>\n",
              "      <td>Rome to Prishtina via Istanbul</td>\n",
              "      <td>âœ… Trip Verified | Rome to Prishtina via Ista...</td>\n",
              "    </tr>\n",
              "    <tr>\n",
              "      <th>7</th>\n",
              "      <td>Washington Dulles to Karachi</td>\n",
              "      <td>âœ… Trip Verified | Flew on Turkish Airlines I...</td>\n",
              "    </tr>\n",
              "    <tr>\n",
              "      <th>9</th>\n",
              "      <td>Mumbai to Dublin via Istanbul</td>\n",
              "      <td>âœ… Trip Verified | Mumbai to Dublin via Istan...</td>\n",
              "    </tr>\n",
              "    <tr>\n",
              "      <th>11</th>\n",
              "      <td>Istanbul to Budapest via Dublin</td>\n",
              "      <td>âœ… Trip Verified | Istanbul to Budapest via D...</td>\n",
              "    </tr>\n",
              "    <tr>\n",
              "      <th>13</th>\n",
              "      <td>Istanbul to Algiers</td>\n",
              "      <td>âœ… Trip Verified | Istanbul to Algiers, plann...</td>\n",
              "    </tr>\n",
              "    <tr>\n",
              "      <th>15</th>\n",
              "      <td>Basel to Cape Town via Istanbul</td>\n",
              "      <td>âœ… Trip Verified | Basel to Cape Town via Ist...</td>\n",
              "    </tr>\n",
              "    <tr>\n",
              "      <th>17</th>\n",
              "      <td>Abu Dhabi to Luxembourg via Istanbul</td>\n",
              "      <td>Not Verified | Abu Dhabi to Luxembourg via Ist...</td>\n",
              "    </tr>\n",
              "    <tr>\n",
              "      <th>19</th>\n",
              "      <td>Venice to Boston via Istanbul</td>\n",
              "      <td>âœ… Trip Verified | The experience with Turkis...</td>\n",
              "    </tr>\n",
              "    <tr>\n",
              "      <th>21</th>\n",
              "      <td>New York to Erbil via Istanbul</td>\n",
              "      <td>Not Verified | New York to Erbil via Istanbul....</td>\n",
              "    </tr>\n",
              "    <tr>\n",
              "      <th>23</th>\n",
              "      <td>Tehran to New York via Istanbul</td>\n",
              "      <td>âœ… Trip Verified | Tehran to New York via Ist...</td>\n",
              "    </tr>\n",
              "    <tr>\n",
              "      <th>25</th>\n",
              "      <td>Belgrade to Athens via Istanbul</td>\n",
              "      <td>âœ… Trip Verified | Belgrade to Athens via Ist...</td>\n",
              "    </tr>\n",
              "    <tr>\n",
              "      <th>27</th>\n",
              "      <td>Dublin to Tel Aviv via Ä°stanbul</td>\n",
              "      <td>âœ… Trip Verified | Dublin to Tel Aviv via Ä°s...</td>\n",
              "    </tr>\n",
              "    <tr>\n",
              "      <th>29</th>\n",
              "      <td>Houston to Kiev via Istanbul</td>\n",
              "      <td>âœ… Trip Verified | Houston to Kiev via Istanb...</td>\n",
              "    </tr>\n",
              "    <tr>\n",
              "      <th>31</th>\n",
              "      <td>Tashkent to Istanbul</td>\n",
              "      <td>âœ… Trip Verified | Tashkent to Istanbul. A po...</td>\n",
              "    </tr>\n",
              "    <tr>\n",
              "      <th>33</th>\n",
              "      <td>Istanbul to Prague</td>\n",
              "      <td>âœ… Trip Verified | Istanbul to Prague. The cr...</td>\n",
              "    </tr>\n",
              "    <tr>\n",
              "      <th>35</th>\n",
              "      <td>Nakhchivan to Istanbul</td>\n",
              "      <td>âœ… Trip Verified | Nakhchivan to Istanbul. Th...</td>\n",
              "    </tr>\n",
              "    <tr>\n",
              "      <th>37</th>\n",
              "      <td>London Heathrow to Istanbul</td>\n",
              "      <td>âœ… Trip Verified | London Heathrow to Istanbu...</td>\n",
              "    </tr>\n",
              "    <tr>\n",
              "      <th>39</th>\n",
              "      <td>Istanbul to Trabzon</td>\n",
              "      <td>âœ… Trip Verified | Istanbul to Trabzon. Board...</td>\n",
              "    </tr>\n",
              "  </tbody>\n",
              "</table>\n",
              "</div>"
            ],
            "text/plain": [
              "                                   route                                    customer_review\n",
              "1           London to Izmir via Istanbul  âœ… Trip Verified | London to Izmir via Istanb...\n",
              "3                  Istanbul to Bucharest  âœ… Trip Verified | Istanbul to Bucharest. We ...\n",
              "5         Rome to Prishtina via Istanbul  âœ… Trip Verified | Rome to Prishtina via Ista...\n",
              "7           Washington Dulles to Karachi  âœ… Trip Verified | Flew on Turkish Airlines I...\n",
              "9          Mumbai to Dublin via Istanbul  âœ… Trip Verified | Mumbai to Dublin via Istan...\n",
              "11       Istanbul to Budapest via Dublin  âœ… Trip Verified | Istanbul to Budapest via D...\n",
              "13                   Istanbul to Algiers  âœ… Trip Verified | Istanbul to Algiers, plann...\n",
              "15       Basel to Cape Town via Istanbul  âœ… Trip Verified | Basel to Cape Town via Ist...\n",
              "17  Abu Dhabi to Luxembourg via Istanbul  Not Verified | Abu Dhabi to Luxembourg via Ist...\n",
              "19         Venice to Boston via Istanbul  âœ… Trip Verified | The experience with Turkis...\n",
              "21        New York to Erbil via Istanbul  Not Verified | New York to Erbil via Istanbul....\n",
              "23       Tehran to New York via Istanbul  âœ… Trip Verified | Tehran to New York via Ist...\n",
              "25       Belgrade to Athens via Istanbul  âœ… Trip Verified | Belgrade to Athens via Ist...\n",
              "27      Dublin to Tel Aviv via Ä°stanbul  âœ… Trip Verified | Dublin to Tel Aviv via Ä°s...\n",
              "29          Houston to Kiev via Istanbul  âœ… Trip Verified | Houston to Kiev via Istanb...\n",
              "31                  Tashkent to Istanbul  âœ… Trip Verified | Tashkent to Istanbul. A po...\n",
              "33                    Istanbul to Prague  âœ… Trip Verified | Istanbul to Prague. The cr...\n",
              "35                Nakhchivan to Istanbul  âœ… Trip Verified | Nakhchivan to Istanbul. Th...\n",
              "37           London Heathrow to Istanbul  âœ… Trip Verified | London Heathrow to Istanbu...\n",
              "39                   Istanbul to Trabzon  âœ… Trip Verified | Istanbul to Trabzon. Board..."
            ]
          },
          "metadata": {},
          "execution_count": 47
        }
      ]
    },
    {
      "cell_type": "code",
      "metadata": {
        "colab": {
          "base_uri": "https://localhost:8080/",
          "height": 35
        },
        "id": "4X8HPQsYfEJs",
        "outputId": "fc82bfb9-1628-49be-dd64-851f545bf676"
      },
      "source": [
        "#Checking the route in the third column\n",
        "airline_df.iloc[2,:]['route']"
      ],
      "execution_count": null,
      "outputs": [
        {
          "output_type": "execute_result",
          "data": {
            "application/vnd.google.colaboratory.intrinsic+json": {
              "type": "string"
            },
            "text/plain": [
              "'Rome to Prishtina via Istanbul'"
            ]
          },
          "metadata": {},
          "execution_count": 48
        }
      ]
    },
    {
      "cell_type": "code",
      "metadata": {
        "colab": {
          "base_uri": "https://localhost:8080/",
          "height": 137
        },
        "id": "1ZjWTeIZfvCj",
        "outputId": "d4c167f5-c620-4be8-bc70-29c4a0e3d1ab"
      },
      "source": [
        "#Checking the full text of customer review from the third column to have an understanding of how it looks\n",
        "airline_df.iloc[2,:]['customer_review']"
      ],
      "execution_count": null,
      "outputs": [
        {
          "output_type": "execute_result",
          "data": {
            "application/vnd.google.colaboratory.intrinsic+json": {
              "type": "string"
            },
            "text/plain": [
              "'âœ… Trip Verified | Rome to Prishtina via Istanbul. I flew with this company several times in the past years, and I can honestly say that it is getting worse and worse. I flew from Rome to Prishtina via Istanbul, all 4 flights had a delay (which apparently is pretty normal with Turkish). The ground staff is for the most part useless. In Istambul i have tried to ask a few information about a flight delay (i had just 30 minutes before the connecting flight) and the whole answer was: \"Relax Sir, No problem Sir, It\\'s okay\". The new airport is a gigantic mess, very big and disorganized. When you land in Istanbul it takes about 20 to 25 minutes taxiing and other 10 minutes before they actually start disembarking, it\\'s an exhausting experience especially if you are in a hurry. Forget about asking for some indication at the new airport, they all chat between each other, some with a coffee in their hands. I flew with four different aircraft on this trip, two were fairly new, the other two were old, seats worn. Food on board was of very poor quality.., let me repeat this, very...poor quality. In general i can say that crew is decently trained and deliver a good experience or at least they try, of course it is far from the experience you get flying Qatar or Emirates but still pretty good, while ground personnel, especially in Istanbul is the personification of the word Lazy. A complete disaster. I will try and avoid Turkish Airlines in the future, it is not a cheap company and definitely not worth for the money you pay. If you are in a hurry or you know you will be avoid this company and avoid the new istanbul airport at all costs.'"
            ]
          },
          "metadata": {},
          "execution_count": 49
        }
      ]
    },
    {
      "cell_type": "code",
      "metadata": {
        "colab": {
          "base_uri": "https://localhost:8080/",
          "height": 35
        },
        "id": "FBvKxPZif6r3",
        "outputId": "b1a4cf3e-28c5-427c-f0ec-88926629bd93"
      },
      "source": [
        "#Checking the route in the 10th column from the last\n",
        "airline_df.iloc[10,:]['route']"
      ],
      "execution_count": null,
      "outputs": [
        {
          "output_type": "execute_result",
          "data": {
            "application/vnd.google.colaboratory.intrinsic+json": {
              "type": "string"
            },
            "text/plain": [
              "'New York to Erbil via Istanbul'"
            ]
          },
          "metadata": {},
          "execution_count": 140
        }
      ]
    },
    {
      "cell_type": "code",
      "metadata": {
        "colab": {
          "base_uri": "https://localhost:8080/",
          "height": 103
        },
        "id": "mFiMiqW-f-cE",
        "outputId": "c345a541-8b44-4109-fa5b-e2e12068ea4f"
      },
      "source": [
        "#Checking the full text of customer review in the 10th column from the last\n",
        "airline_df.iloc[10,:]['customer_review']"
      ],
      "execution_count": null,
      "outputs": [
        {
          "output_type": "execute_result",
          "data": {
            "application/vnd.google.colaboratory.intrinsic+json": {
              "type": "string"
            },
            "text/plain": [
              "'Not Verified | New York to Erbil via Istanbul. They have the worst customer service. My initial leg was delayed due to weather so I was going to miss my connection. Turkish Airlines did nothing to help - in fact finding someone with Turkish Airlines to assist is a feat in itself. TA kept passing the blame. Bottom line - if any segment of your Turkish Airlines flights causes a delay then you are SOL when it comes to TA. Plan on spending a lot more money and flying another airline because Turkish Airlines will not assist you and they will keep your money. The \"customer service\" is a joke - they read from scripts and keep repeating the same paragraph - almost like robots. They also tell you to send an email - it is just a stalling tactic.'"
            ]
          },
          "metadata": {},
          "execution_count": 51
        }
      ]
    },
    {
      "cell_type": "markdown",
      "metadata": {
        "id": "vzOdE9zvxY8n"
      },
      "source": [
        "It's clear that the first part of the customer review before the full stop (.) contains the trip route and status. Since we already have another column with route details, this part is not required in the review. We can cut this part of the customer review after checking the trip status details too."
      ]
    },
    {
      "cell_type": "code",
      "metadata": {
        "colab": {
          "base_uri": "https://localhost:8080/"
        },
        "id": "oW0HVC1k6sHI",
        "outputId": "3fb49b80-f5aa-4b4c-94bf-be911a4b5f96"
      },
      "source": [
        "#Checking the number of trip verified mentions in the customer review column.\n",
        "ver_count=airline_df['customer_review'].str.contains('Trip Verified').sum()\n",
        "print (\"There are {v} verified trips\".format(v=ver_count))"
      ],
      "execution_count": null,
      "outputs": [
        {
          "output_type": "stream",
          "name": "stdout",
          "text": [
            "There are 13260 verified trips\n"
          ]
        }
      ]
    },
    {
      "cell_type": "code",
      "metadata": {
        "colab": {
          "base_uri": "https://localhost:8080/"
        },
        "id": "m00E-J49uoDy",
        "outputId": "55641f67-be5f-415f-fee4-2b4adda15df1"
      },
      "source": [
        "#Checking the number of not verified mentions in the customer review column.\n",
        "not_ver_count=airline_df['customer_review'].str.contains('Not Verified').sum()\n",
        "print (\"{v} trips are not verified\".format(v=not_ver_count))"
      ],
      "execution_count": null,
      "outputs": [
        {
          "output_type": "stream",
          "name": "stdout",
          "text": [
            "1744 trips are not verified\n"
          ]
        }
      ]
    },
    {
      "cell_type": "code",
      "metadata": {
        "colab": {
          "base_uri": "https://localhost:8080/"
        },
        "id": "S15GRoBcvBvP",
        "outputId": "2908bca9-7afc-4d9e-a333-80bf7a613b9f"
      },
      "source": [
        "#total number of rows\n",
        "len(airline_df.index)"
      ],
      "execution_count": null,
      "outputs": [
        {
          "output_type": "execute_result",
          "data": {
            "text/plain": [
              "59761"
            ]
          },
          "metadata": {},
          "execution_count": 166
        }
      ]
    },
    {
      "cell_type": "code",
      "metadata": {
        "id": "eu2k287Ou48d"
      },
      "source": [
        "#calculating the number of rows with no information regarding trip verification status\n",
        "no_info = len(airline_df.index)- (ver_count + not_ver_count )\n",
        "print (\"Verification details missing for {nf} trips\".format(nf=no_info))"
      ],
      "execution_count": null,
      "outputs": []
    },
    {
      "cell_type": "markdown",
      "metadata": {
        "id": "Ki0F58Rzyqxn"
      },
      "source": [
        "The number of customer reviews which doesn't mention the trip verification status is huge by a big margin compared to the ones which mention the verification status. So it is not worth moving this part to another column."
      ]
    },
    {
      "cell_type": "code",
      "metadata": {
        "id": "ddPIT1Ol9ha_"
      },
      "source": [
        "#Removing the part of customer review whihc mentions route and trip verification status\n",
        "airline_df['customer_review'] = airline_df['customer_review'].str.split('.',n=1,expand=True)[1]"
      ],
      "execution_count": null,
      "outputs": []
    },
    {
      "cell_type": "code",
      "metadata": {
        "id": "ujG5PFsNlbXD",
        "colab": {
          "base_uri": "https://localhost:8080/",
          "height": 103
        },
        "outputId": "5b057e73-9808-44bf-c822-0d68f309f4f9"
      },
      "source": [
        "#Checking the change in same row which we checked before\n",
        "airline_df.iloc[10,:]['customer_review']"
      ],
      "execution_count": null,
      "outputs": [
        {
          "output_type": "execute_result",
          "data": {
            "application/vnd.google.colaboratory.intrinsic+json": {
              "type": "string"
            },
            "text/plain": [
              "' They have the worst customer service. My initial leg was delayed due to weather so I was going to miss my connection. Turkish Airlines did nothing to help - in fact finding someone with Turkish Airlines to assist is a feat in itself. TA kept passing the blame. Bottom line - if any segment of your Turkish Airlines flights causes a delay then you are SOL when it comes to TA. Plan on spending a lot more money and flying another airline because Turkish Airlines will not assist you and they will keep your money. The \"customer service\" is a joke - they read from scripts and keep repeating the same paragraph - almost like robots. They also tell you to send an email - it is just a stalling tactic.'"
            ]
          },
          "metadata": {},
          "execution_count": 170
        }
      ]
    },
    {
      "cell_type": "markdown",
      "metadata": {
        "id": "GRsEdWkOzuyO"
      },
      "source": [
        "These customer reviews in words give out lot of sentiments. This could be one of major deciding factors for recommendation .So let's work on these reviews."
      ]
    },
    {
      "cell_type": "markdown",
      "metadata": {
        "id": "qwO25Q1g0TE8"
      },
      "source": [
        "Sentiment analysis is part of the Natural Language Processing (NLP) techniques that consists in extracting emotions related to some raw texts.\n",
        "\n",
        "Lets apply this to our customer review column."
      ]
    },
    {
      "cell_type": "code",
      "metadata": {
        "id": "hapaX0YhQazH"
      },
      "source": [
        "#Replacing all the null values of customer review column with 'NA'\n",
        "airline_df['customer_review'].fillna('NA',inplace = True)"
      ],
      "execution_count": null,
      "outputs": []
    },
    {
      "cell_type": "code",
      "metadata": {
        "id": "wKcYDL0-1DcW"
      },
      "source": [
        "#importing all the libraries required for sentiment analysis\n",
        "import string\n",
        "from nltk import pos_tag\n",
        "from nltk.corpus import stopwords\n",
        "from nltk.tokenize import WhitespaceTokenizer\n",
        "from nltk.stem import WordNetLemmatizer\n",
        "from nltk.corpus import wordnet\n",
        "\n",
        "# add sentiment anaylsis columns\n",
        "from nltk.sentiment.vader import SentimentIntensityAnalyzer\n",
        "\n",
        "#downloading all the required packages\n",
        "nltk.download(\"stopwords\")\n",
        "nltk.download('averaged_perceptron_tagger')\n",
        "nltk.download(\"wordnet\")\n",
        "nltk.download('vader_lexicon')\n"
      ],
      "execution_count": null,
      "outputs": []
    },
    {
      "cell_type": "code",
      "metadata": {
        "id": "CskzvR2kEWI8"
      },
      "source": [
        "# return the wordnet object value corresponding to the POS tag\n",
        "def get_wordnet_pos(pos_tag):\n",
        "    if pos_tag.startswith('J'):\n",
        "        return wordnet.ADJ\n",
        "    elif pos_tag.startswith('V'):\n",
        "        return wordnet.VERB\n",
        "    elif pos_tag.startswith('N'):\n",
        "        return wordnet.NOUN\n",
        "    elif pos_tag.startswith('R'):\n",
        "        return wordnet.ADV\n",
        "    else:\n",
        "        return wordnet.NOUN\n",
        "\n",
        "#Including all the techniques for cleaning the text in a single function\n",
        "def clean_text(text):\n",
        "    # lower text\n",
        "    text = text.lower()\n",
        "    # tokenize text and remove puncutation\n",
        "    text = [word.strip(string.punctuation) for word in text.split(\" \")]\n",
        "    # remove words that contain numbers\n",
        "    text = [word for word in text if not any(c.isdigit() for c in word)]\n",
        "    # remove stop words\n",
        "    stop = stopwords.words('english')\n",
        "    text = [x for x in text if x not in stop]\n",
        "    # remove empty tokens\n",
        "    text = [t for t in text if len(t) > 0]\n",
        "    # pos tag text\n",
        "    pos_tags = pos_tag(text)\n",
        "    # lemmatize text\n",
        "    text = [WordNetLemmatizer().lemmatize(t[0], get_wordnet_pos(t[1])) for t in pos_tags]\n",
        "    # remove words with only one letter\n",
        "    text = [t for t in text if len(t) > 1]\n",
        "    # join all\n",
        "    text = \" \".join(text)\n",
        "    return(text)"
      ],
      "execution_count": null,
      "outputs": []
    },
    {
      "cell_type": "code",
      "metadata": {
        "id": "O4ERN4cTNJDH"
      },
      "source": [
        "#Clean the customer_review column texts for sentiment analysis\n",
        "airline_df[\"customer_review\"] = airline_df[\"customer_review\"].apply(lambda x: clean_text(x))"
      ],
      "execution_count": null,
      "outputs": []
    },
    {
      "cell_type": "code",
      "metadata": {
        "colab": {
          "base_uri": "https://localhost:8080/",
          "height": 69
        },
        "id": "S-04YKoxSGy5",
        "outputId": "e038d1a4-f7c4-4105-ed95-9dc81daa41db"
      },
      "source": [
        "#checking one of the clean texts from one of the customer review columns\n",
        "airline_df.iloc[10,:]['customer_review']"
      ],
      "execution_count": null,
      "outputs": [
        {
          "output_type": "execute_result",
          "data": {
            "application/vnd.google.colaboratory.intrinsic+json": {
              "type": "string"
            },
            "text/plain": [
              "'worst customer service initial leg delay due weather go miss connection turkish airline nothing help fact find someone turkish airline assist feat ta keep pass blame bottom line segment turkish airline flight cause delay sol come ta plan spending lot money fly another airline turkish airline assist keep money customer service joke read script keep repeat paragraph almost like robot also tell send email stalling tactic'"
            ]
          },
          "metadata": {},
          "execution_count": 177
        }
      ]
    },
    {
      "cell_type": "code",
      "metadata": {
        "id": "liMA3N33PG0Q"
      },
      "source": [
        "#Make new columns for the negativity, positivity and neutrality derived from the sentiment analysis \n",
        "sid = SentimentIntensityAnalyzer()\n",
        "airline_df[\"review_Sentiments\"] = airline_df[\"customer_review\"].apply(lambda x: sid.polarity_scores(x))\n",
        "airline_df = pd.concat([airline_df.drop(['review_Sentiments'], axis=1), airline_df['review_Sentiments'].apply(pd.Series)], axis=1)\n"
      ],
      "execution_count": null,
      "outputs": []
    },
    {
      "cell_type": "code",
      "metadata": {
        "id": "ZqueQafM3DUm"
      },
      "source": [
        "#Rename the new columns for more readability\n",
        "airline_df.rename(columns={'neg':'Negative Sentiment Score', 'pos':'Positive Sentiment Score' ,\n",
        "                           'neu' : 'Neutal Sentiment Score' , 'compound':'Overall Sentiment Score'}, inplace=True)"
      ],
      "execution_count": null,
      "outputs": []
    },
    {
      "cell_type": "code",
      "metadata": {
        "id": "mCDgvk5sSxPa"
      },
      "source": [
        "#Calculating the overall customer review sentiments\n",
        "airline_df[\"Overall Review Sentiment\"] = np.where(airline_df[\"Overall Sentiment Score\"] >= 0.05,\"Positive\",\n",
        "                                                       np.where(airline_df[\"Overall Sentiment Score\"] <= -0.05,\"Negative\",\"Neutral\"))\n"
      ],
      "execution_count": null,
      "outputs": []
    },
    {
      "cell_type": "code",
      "metadata": {
        "colab": {
          "base_uri": "https://localhost:8080/",
          "height": 356
        },
        "id": "ajDwEyXup8V0",
        "outputId": "79afeae6-519e-45fc-d58e-67c35b0c0da4"
      },
      "source": [
        "plt.figure(figsize=(10,5))\n",
        "sns.countplot(x = 'Overall Review Sentiment', data = airline_df)"
      ],
      "execution_count": null,
      "outputs": [
        {
          "output_type": "execute_result",
          "data": {
            "text/plain": [
              "<matplotlib.axes._subplots.AxesSubplot at 0x7fd741ea0950>"
            ]
          },
          "metadata": {},
          "execution_count": 181
        },
        {
          "output_type": "display_data",
          "data": {
            "image/png": "[encoded data removed]",
            "text/plain": [
              "<Figure size 720x360 with 1 Axes>"
            ]
          },
          "metadata": {
            "needs_background": "light"
          }
        }
      ]
    },
    {
      "cell_type": "code",
      "metadata": {
        "id": "clHNHvelqWah"
      },
      "source": [
        "#Lets split this dataset into three with respect to the overall review sentiment for some analysis\n",
        "overall_positive= airline_df_copy[airline_df_copy[\"Overall Review Sentiment\"] == \"Positive\"]\n",
        "overall_negative= airline_df_copy[airline_df_copy[\"Overall Review Sentiment\"] == \"Negative\"]\n",
        "overall_neutral= airline_df_copy[airline_df_copy[\"Overall Review Sentiment\"] == \"Neutral\"]"
      ],
      "execution_count": null,
      "outputs": []
    },
    {
      "cell_type": "code",
      "metadata": {
        "colab": {
          "base_uri": "https://localhost:8080/",
          "height": 356
        },
        "id": "G1t0j2yjqtNa",
        "outputId": "1ffd38b6-1dc9-4a13-804b-c811d7d9f065"
      },
      "source": [
        "#Comparing the overall review sentiment positivity to the recommendation\n",
        "plt.figure(figsize=(10,5))\n",
        "sns.countplot(x = 'recommended', data = overall_positive , palette = \"Spectral_r\")"
      ],
      "execution_count": null,
      "outputs": [
        {
          "output_type": "execute_result",
          "data": {
            "text/plain": [
              "<matplotlib.axes._subplots.AxesSubplot at 0x7fd742260790>"
            ]
          },
          "metadata": {},
          "execution_count": 197
        },
        {
          "output_type": "display_data",
          "data": {
            "image/png": "[encoded data removed]",
            "text/plain": [
              "<Figure size 720x360 with 1 Axes>"
            ]
          },
          "metadata": {
            "needs_background": "light"
          }
        }
      ]
    },
    {
      "cell_type": "code",
      "metadata": {
        "colab": {
          "base_uri": "https://localhost:8080/",
          "height": 356
        },
        "id": "TGjcxLQhq0vM",
        "outputId": "c6a3b668-caba-4cfd-eb56-9782b9f6bfb0"
      },
      "source": [
        "#Comparing the overall review sentiment negativity to the recommendation\n",
        "plt.figure(figsize=(10,5))\n",
        "sns.countplot(x = 'recommended', data = overall_negative , palette = \"Reds\")"
      ],
      "execution_count": null,
      "outputs": [
        {
          "output_type": "execute_result",
          "data": {
            "text/plain": [
              "<matplotlib.axes._subplots.AxesSubplot at 0x7fd7493e0510>"
            ]
          },
          "metadata": {},
          "execution_count": 195
        },
        {
          "output_type": "display_data",
          "data": {
            "image/png": "[encoded data removed]",
            "text/plain": [
              "<Figure size 720x360 with 1 Axes>"
            ]
          },
          "metadata": {
            "needs_background": "light"
          }
        }
      ]
    },
    {
      "cell_type": "code",
      "metadata": {
        "colab": {
          "base_uri": "https://localhost:8080/",
          "height": 356
        },
        "id": "d-0N8l-pq7f9",
        "outputId": "16748ed5-b5bb-42ba-c38c-67e240751bcc"
      },
      "source": [
        "#Comparing the overall review sentiment neutrality to the recommendation\n",
        "plt.figure(figsize=(10,5))\n",
        "sns.countplot(x = 'recommended', data = overall_neutral , palette = \"Greens\")"
      ],
      "execution_count": null,
      "outputs": [
        {
          "output_type": "execute_result",
          "data": {
            "text/plain": [
              "<matplotlib.axes._subplots.AxesSubplot at 0x7fd740a32a50>"
            ]
          },
          "metadata": {},
          "execution_count": 194
        },
        {
          "output_type": "display_data",
          "data": {
            "image/png": "[encoded data removed]",
            "text/plain": [
              "<Figure size 720x360 with 1 Axes>"
            ]
          },
          "metadata": {
            "needs_background": "light"
          }
        }
      ]
    },
    {
      "cell_type": "code",
      "metadata": {
        "id": "x6pnb5fZz6o0"
      },
      "source": [
        ""
      ],
      "execution_count": null,
      "outputs": []
    }
  ]
}